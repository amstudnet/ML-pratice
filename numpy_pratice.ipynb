{
  "nbformat": 4,
  "nbformat_minor": 0,
  "metadata": {
    "colab": {
      "provenance": []
    },
    "kernelspec": {
      "name": "python3",
      "display_name": "Python 3"
    },
    "language_info": {
      "name": "python"
    }
  },
  "cells": [
    {
      "cell_type": "code",
      "execution_count": 2,
      "metadata": {
        "colab": {
          "base_uri": "https://localhost:8080/"
        },
        "id": "93pRoXb3_93x",
        "outputId": "16192bb3-92e2-4607-8855-b31b012c7ff9"
      },
      "outputs": [
        {
          "output_type": "stream",
          "name": "stdout",
          "text": [
            "[1 2 3 4 5]\n"
          ]
        }
      ],
      "source": [
        "import numpy as np\n",
        "arr = np.array([1, 2, 3, 4, 5])\n",
        "print(arr)    # [1 2 3 4 5]"
      ]
    },
    {
      "cell_type": "code",
      "source": [
        "import numpy as np\n",
        "arr = np.array([1, 2, 3, 4, 5, 6, 7, 8, 9, 10, 11, 12])\n",
        "newarr = arr.reshape(4, 3)\n",
        "print(newarr)"
      ],
      "metadata": {
        "colab": {
          "base_uri": "https://localhost:8080/"
        },
        "id": "5Myhyz6mAHRd",
        "outputId": "d587416f-95ba-4495-f99f-4a82e51c7fd8"
      },
      "execution_count": 3,
      "outputs": [
        {
          "output_type": "stream",
          "name": "stdout",
          "text": [
            "[[ 1  2  3]\n",
            " [ 4  5  6]\n",
            " [ 7  8  9]\n",
            " [10 11 12]]\n"
          ]
        }
      ]
    },
    {
      "cell_type": "code",
      "source": [
        "import numpy as np\n",
        "a = np.array([1.1, 2.2, 3.3, 0, -1])\n",
        "b = np.array(a, dtype='?')\n",
        "c = np.array(a, dtype='U')\n",
        "d = np.array(a, dtype='S')\n",
        "e = np.array(a, dtype='B')\n",
        "f = np.array(a, dtype='i')\n",
        "print(a)   # [ 1.1  2.2  3.3  0.  -1. ]\n",
        "print(b)   # [ True  True  True False  True]\n",
        "print(c)   # ['1.1' '2.2' '3.3' '0.0' '-1.0']\n",
        "print(d)   # [b'1.1' b'2.2' b'3.3' b'0.0' b'-1.0']\n",
        "print(e)   # [  1   2   3   0 255]\n",
        "print(f)   # [ 1  2  3  0 -1]"
      ],
      "metadata": {
        "colab": {
          "base_uri": "https://localhost:8080/"
        },
        "id": "xfx7DMjxASCx",
        "outputId": "8014ffc4-23ac-4bd5-85f0-1184dfbc406a"
      },
      "execution_count": 4,
      "outputs": [
        {
          "output_type": "stream",
          "name": "stdout",
          "text": [
            "[ 1.1  2.2  3.3  0.  -1. ]\n",
            "[ True  True  True False  True]\n",
            "['1.1' '2.2' '3.3' '0.0' '-1.0']\n",
            "[b'1.1' b'2.2' b'3.3' b'0.0' b'-1.0']\n",
            "[  1   2   3   0 255]\n",
            "[ 1  2  3  0 -1]\n"
          ]
        }
      ]
    },
    {
      "cell_type": "code",
      "source": [
        "a = np.array([1, 2, 3, 4], dtype=\"int32\")\n",
        "b = a.astype('float32')\n",
        "print(a)    # 1, 2, 3, 4\n",
        "print(b)    # 1., 2., 3., 4,"
      ],
      "metadata": {
        "colab": {
          "base_uri": "https://localhost:8080/"
        },
        "id": "g8GwVWFGAWYh",
        "outputId": "445b1a85-526b-4cc0-c7a8-62d72d019b6b"
      },
      "execution_count": 5,
      "outputs": [
        {
          "output_type": "stream",
          "name": "stdout",
          "text": [
            "[1 2 3 4]\n",
            "[1. 2. 3. 4.]\n"
          ]
        }
      ]
    },
    {
      "cell_type": "code",
      "source": [
        "import numpy as np\n",
        "dt = np.dtype([('a','U5'),('b','f'),('c','?')])\n",
        "a = np.array([(1.1,2.2,3.3), (1.1,2.2,3.3)], dtype=dt)\n",
        "print(a)    # [('1.1', 2.2,  True) ('1.1', 2.2,  True)]"
      ],
      "metadata": {
        "colab": {
          "base_uri": "https://localhost:8080/"
        },
        "id": "K8SMJHAiAraS",
        "outputId": "43593d2d-cbf7-428a-c48e-eeacac0b25c1"
      },
      "execution_count": 6,
      "outputs": [
        {
          "output_type": "stream",
          "name": "stdout",
          "text": [
            "[('1.1', 2.2,  True) ('1.1', 2.2,  True)]\n"
          ]
        }
      ]
    },
    {
      "cell_type": "code",
      "source": [
        "import numpy as np\n",
        "a = np.array([1,2,3,4,5])\n",
        "b = np.array([1,2,3,4,5], dtype='U10')\n",
        "print(a.dtype)    # int64\n",
        "print(b.dtype)    # <U10"
      ],
      "metadata": {
        "colab": {
          "base_uri": "https://localhost:8080/"
        },
        "id": "7oIY6_dXAu_S",
        "outputId": "9ede6d0d-8715-4b2b-ca7a-9cfd8987d8d6"
      },
      "execution_count": 7,
      "outputs": [
        {
          "output_type": "stream",
          "name": "stdout",
          "text": [
            "int64\n",
            "<U10\n"
          ]
        }
      ]
    },
    {
      "cell_type": "code",
      "source": [
        "import numpy as np\n",
        "\n",
        "a = np.array([1,2,3,4])                      # 建立一維陣列\n",
        "b = np.array([[1,2],[3,4]])                  # 建立二維陣列\n",
        "c = np.array([[[1,2],[3,4]],[[5,6],[7,8]]])  # 建立三維陣列\n",
        "print(a)\n",
        "print(b)\n",
        "print(c)"
      ],
      "metadata": {
        "colab": {
          "base_uri": "https://localhost:8080/"
        },
        "id": "sg9Vp6euA-lK",
        "outputId": "5cbe89cf-d99b-4d01-f4b7-bae5a0071220"
      },
      "execution_count": 8,
      "outputs": [
        {
          "output_type": "stream",
          "name": "stdout",
          "text": [
            "[1 2 3 4]\n",
            "[[1 2]\n",
            " [3 4]]\n",
            "[[[1 2]\n",
            "  [3 4]]\n",
            "\n",
            " [[5 6]\n",
            "  [7 8]]]\n"
          ]
        }
      ]
    },
    {
      "cell_type": "code",
      "source": [
        "import numpy as np\n",
        "\n",
        "a = np.array([1,2,3,4], ndmin=3)\n",
        "print(a)    # [[[1 2 3 4]]]  注意有三層括號，是三維陣列"
      ],
      "metadata": {
        "colab": {
          "base_uri": "https://localhost:8080/"
        },
        "id": "JiW-rtooBFUB",
        "outputId": "39bcd328-8ed9-4c1b-df91-ec1903494764"
      },
      "execution_count": 9,
      "outputs": [
        {
          "output_type": "stream",
          "name": "stdout",
          "text": [
            "[[[1 2 3 4]]]\n"
          ]
        }
      ]
    },
    {
      "cell_type": "code",
      "source": [
        "import numpy as np\n",
        "\n",
        "a = np.array([1,2,3,4], dtype='U')   # 轉換成 unicode 字串的格式\n",
        "b = np.array([1,2,3,4], dtype='S')   # 轉換成二進位字串\n",
        "print(a)   # ['1' '2' '3' '4']\n",
        "print(b)   # [b'1' b'2' b'3' b'4']"
      ],
      "metadata": {
        "colab": {
          "base_uri": "https://localhost:8080/"
        },
        "id": "D0iuQ6q3BKn8",
        "outputId": "11d5e661-922b-4c60-caf0-3103f0b1324b"
      },
      "execution_count": 10,
      "outputs": [
        {
          "output_type": "stream",
          "name": "stdout",
          "text": [
            "['1' '2' '3' '4']\n",
            "[b'1' b'2' b'3' b'4']\n"
          ]
        }
      ]
    },
    {
      "cell_type": "code",
      "source": [
        "import numpy as np\n",
        "\n",
        "a = np.empty(2)        # 建立一維空陣列\n",
        "b = np.empty([2,2])    # 建立二維空陣列\n",
        "c = np.empty([2,2,2])  # 建立三維空陣列\n",
        "print(a)\n",
        "print(b)\n",
        "print(c)\n",
        "#empty還是有東西，只是隨機指派數字"
      ],
      "metadata": {
        "colab": {
          "base_uri": "https://localhost:8080/"
        },
        "id": "fNMoC9VIBLzC",
        "outputId": "becc2c12-b70b-4132-9f82-63c85fb8fe1c"
      },
      "execution_count": 12,
      "outputs": [
        {
          "output_type": "stream",
          "name": "stdout",
          "text": [
            "[1.06099790e-312 1.10343781e-312]\n",
            "[[4.9e-324 9.9e-324]\n",
            " [1.5e-323 2.0e-323]]\n",
            "[[[4.9e-324 9.9e-324]\n",
            "  [1.5e-323 2.0e-323]]\n",
            "\n",
            " [[2.5e-323 3.0e-323]\n",
            "  [3.5e-323 4.0e-323]]]\n"
          ]
        }
      ]
    },
    {
      "cell_type": "code",
      "source": [
        "import numpy as np\n",
        "\n",
        "a = np.zeros(2)        # 建立一維 zero 陣列\n",
        "b = np.zeros([2,2])    # 建立二維 zero 陣列\n",
        "c = np.zeros([2,2,2])  # 建立三維 zero 陣列\n",
        "print(a)\n",
        "print(b)\n",
        "print(c)"
      ],
      "metadata": {
        "colab": {
          "base_uri": "https://localhost:8080/"
        },
        "id": "fCkZTdBGBcnx",
        "outputId": "44adee73-b0a4-4a93-8da1-53058475685c"
      },
      "execution_count": 13,
      "outputs": [
        {
          "output_type": "stream",
          "name": "stdout",
          "text": [
            "[0. 0.]\n",
            "[[0. 0.]\n",
            " [0. 0.]]\n",
            "[[[0. 0.]\n",
            "  [0. 0.]]\n",
            "\n",
            " [[0. 0.]\n",
            "  [0. 0.]]]\n"
          ]
        }
      ]
    },
    {
      "cell_type": "code",
      "source": [
        "import numpy as np\n",
        "\n",
        "a = np.ones(2)        # 建立一維 one 陣列\n",
        "b = np.ones([2,2])    # 建立二維 one 陣列\n",
        "c = np.ones([2,2,2])  # 建立三維 one 陣列\n",
        "print(a)\n",
        "print(b)\n",
        "print(c)"
      ],
      "metadata": {
        "colab": {
          "base_uri": "https://localhost:8080/"
        },
        "id": "0OPjNCYTB3Ki",
        "outputId": "ff6712fa-30c4-4cab-83d3-2ec7e1c80a5c"
      },
      "execution_count": 14,
      "outputs": [
        {
          "output_type": "stream",
          "name": "stdout",
          "text": [
            "[1. 1.]\n",
            "[[1. 1.]\n",
            " [1. 1.]]\n",
            "[[[1. 1.]\n",
            "  [1. 1.]]\n",
            "\n",
            " [[1. 1.]\n",
            "  [1. 1.]]]\n"
          ]
        }
      ]
    },
    {
      "cell_type": "code",
      "source": [
        "import numpy as np\n",
        "\n",
        "print(np.eye(3))     # 建立 3x3 陣列，對角線起始點為 0\n",
        "print(np.eye(3,5))   # 建立 3x5 陣列，對角線起始點為 0\n",
        "print(np.eye(3,5,2)) # 建立 3x3 陣列，對角線起始點為 2"
      ],
      "metadata": {
        "colab": {
          "base_uri": "https://localhost:8080/"
        },
        "id": "fjVpz7JhB53a",
        "outputId": "8af5df05-1b4e-4f33-9a12-59328dccae09"
      },
      "execution_count": 15,
      "outputs": [
        {
          "output_type": "stream",
          "name": "stdout",
          "text": [
            "[[1. 0. 0.]\n",
            " [0. 1. 0.]\n",
            " [0. 0. 1.]]\n",
            "[[1. 0. 0. 0. 0.]\n",
            " [0. 1. 0. 0. 0.]\n",
            " [0. 0. 1. 0. 0.]]\n",
            "[[0. 0. 1. 0. 0.]\n",
            " [0. 0. 0. 1. 0.]\n",
            " [0. 0. 0. 0. 1.]]\n"
          ]
        }
      ]
    },
    {
      "cell_type": "code",
      "source": [
        "a = np.array([1,2,3])\n",
        "b = np.tile(a, 5)       # [1,2,3] 重複 5 次變成一維陣列\n",
        "c = np.tile(a, (5, 2))  # [1,2,3] 重複放入 5x2 的陣列中\n",
        "print(b)\n",
        "print(c)"
      ],
      "metadata": {
        "colab": {
          "base_uri": "https://localhost:8080/"
        },
        "id": "u_AofC5_CGdK",
        "outputId": "a17bac28-d59b-41d4-836b-331e5623028f"
      },
      "execution_count": 16,
      "outputs": [
        {
          "output_type": "stream",
          "name": "stdout",
          "text": [
            "[1 2 3 1 2 3 1 2 3 1 2 3 1 2 3]\n",
            "[[1 2 3 1 2 3]\n",
            " [1 2 3 1 2 3]\n",
            " [1 2 3 1 2 3]\n",
            " [1 2 3 1 2 3]\n",
            " [1 2 3 1 2 3]]\n"
          ]
        }
      ]
    },
    {
      "cell_type": "code",
      "source": [
        "import numpy as np\n",
        "\n",
        "a = np.arange(10)        # 建立 1～10，間隔為 1 的陣列\n",
        "b = np.arange(5,10)      # 建立 5～10，間隔為 1 的陣列\n",
        "c = np.arange(5,10,0.1)  # 建立 5～10，間隔為 0.1 的陣列\n",
        "d = np.arange(5,10,dtype='float')  # 建立 5～10，間隔為 1 的浮點數陣列\n",
        "print(a)\n",
        "print(b)\n",
        "print(c)\n",
        "print(d)"
      ],
      "metadata": {
        "colab": {
          "base_uri": "https://localhost:8080/"
        },
        "id": "YZVjloZ3CL6c",
        "outputId": "f7e83a9a-4043-4183-ea00-92b9b7722d98"
      },
      "execution_count": 17,
      "outputs": [
        {
          "output_type": "stream",
          "name": "stdout",
          "text": [
            "[0 1 2 3 4 5 6 7 8 9]\n",
            "[5 6 7 8 9]\n",
            "[5.  5.1 5.2 5.3 5.4 5.5 5.6 5.7 5.8 5.9 6.  6.1 6.2 6.3 6.4 6.5 6.6 6.7\n",
            " 6.8 6.9 7.  7.1 7.2 7.3 7.4 7.5 7.6 7.7 7.8 7.9 8.  8.1 8.2 8.3 8.4 8.5\n",
            " 8.6 8.7 8.8 8.9 9.  9.1 9.2 9.3 9.4 9.5 9.6 9.7 9.8 9.9]\n",
            "[5. 6. 7. 8. 9.]\n"
          ]
        }
      ]
    },
    {
      "cell_type": "code",
      "source": [
        "import numpy as np\n",
        "\n",
        "a = np.linspace(5, 10, 10)        # 建立 5～10，內容有 10 個項目的陣列\n",
        "b = np.linspace(5, 10, 10, endpoint=False)  # 建立 5～9，內容有 10 個項目的陣列\n",
        "c = np.linspace(5, 10, 10, dtype='int')       # 建立 5～10，內容有 10 個「整數」項目的陣列\n",
        "print(a)\n",
        "print(b)\n",
        "print(c)"
      ],
      "metadata": {
        "colab": {
          "base_uri": "https://localhost:8080/"
        },
        "id": "29Zi_D9-CQlb",
        "outputId": "becdd66a-e50d-4155-befe-f0cade1fb604"
      },
      "execution_count": 18,
      "outputs": [
        {
          "output_type": "stream",
          "name": "stdout",
          "text": [
            "[ 5.          5.55555556  6.11111111  6.66666667  7.22222222  7.77777778\n",
            "  8.33333333  8.88888889  9.44444444 10.        ]\n",
            "[5.  5.5 6.  6.5 7.  7.5 8.  8.5 9.  9.5]\n",
            "[ 5  5  6  6  7  7  8  8  9 10]\n"
          ]
        }
      ]
    },
    {
      "cell_type": "code",
      "source": [
        "import numpy as np\n",
        "\n",
        "a = np.logspace(0, 1, 10)\n",
        "b = np.logspace(0, 1, 10, False)\n",
        "print(a)\n",
        "print(b)\n",
        "#numpy.logspace() 可以建立兩個數值間，指定「數量」的「log 對數」連續資料陣列，( 額外設定 endpoint False 表示不包含最後一個數字、設定 dtype 可指定資料型態 )。"
      ],
      "metadata": {
        "colab": {
          "base_uri": "https://localhost:8080/"
        },
        "id": "Zd-bf2tLCRnD",
        "outputId": "d49c52ca-cae0-49c9-87ff-b2f4c171c743"
      },
      "execution_count": 20,
      "outputs": [
        {
          "output_type": "stream",
          "name": "stdout",
          "text": [
            "[ 1.          1.29154967  1.66810054  2.15443469  2.7825594   3.59381366\n",
            "  4.64158883  5.9948425   7.74263683 10.        ]\n",
            "[1.         1.25892541 1.58489319 1.99526231 2.51188643 3.16227766\n",
            " 3.98107171 5.01187234 6.30957344 7.94328235]\n"
          ]
        }
      ]
    },
    {
      "cell_type": "code",
      "source": [
        "import numpy as np\n",
        "\n",
        "a = np.array([1,2,3,4,5])\n",
        "print(a[0])    # 1\n",
        "print(a[1])    # 2"
      ],
      "metadata": {
        "colab": {
          "base_uri": "https://localhost:8080/"
        },
        "id": "jdoDeETeCjMq",
        "outputId": "31dcc420-7070-4ab3-f4b8-70f9fb852598"
      },
      "execution_count": 21,
      "outputs": [
        {
          "output_type": "stream",
          "name": "stdout",
          "text": [
            "1\n",
            "2\n"
          ]
        }
      ]
    },
    {
      "cell_type": "code",
      "source": [
        "import numpy as np\n",
        "\n",
        "a = np.array([[1,2,3],[4,5,6]])\n",
        "print(a[0,0])  # 1\n",
        "print(a[0,1])\n",
        "print(a[0,2])\n",
        "print(a[1,0])\n",
        "print(a[1,1])  # 5\n",
        "print(a[1,2])"
      ],
      "metadata": {
        "colab": {
          "base_uri": "https://localhost:8080/"
        },
        "id": "7PCISLoECs6J",
        "outputId": "94cac5f0-0ce6-4183-ec5e-8623bb1201ac"
      },
      "execution_count": 22,
      "outputs": [
        {
          "output_type": "stream",
          "name": "stdout",
          "text": [
            "1\n",
            "2\n",
            "3\n",
            "4\n",
            "5\n",
            "6\n"
          ]
        }
      ]
    },
    {
      "cell_type": "code",
      "source": [
        "import numpy as np\n",
        "\n",
        "a = np.array([[[1,2],[3,4]],[[5,6],[7,8]]])\n",
        "print(a[0,0,0])    # 1\n",
        "print(a[0,1,0])    # 3\n",
        "print(a[1,0,1])    # 6\n",
        "print(a[1,1,1])    # 8"
      ],
      "metadata": {
        "colab": {
          "base_uri": "https://localhost:8080/"
        },
        "id": "vo5euGScC9mD",
        "outputId": "331f8865-260c-40e2-8b50-4da79ec4c785"
      },
      "execution_count": 23,
      "outputs": [
        {
          "output_type": "stream",
          "name": "stdout",
          "text": [
            "1\n",
            "3\n",
            "6\n",
            "8\n"
          ]
        }
      ]
    },
    {
      "cell_type": "code",
      "source": [
        "import numpy as np\n",
        "\n",
        "a = np.array([[[1,2],[3,4]],[[5,6],[7,8]]])\n",
        "print(a[0,0,-1])   # 2\n",
        "print(a[0,1,-1])   # 4\n",
        "print(a[1,-1,1])   # 8\n",
        "print(a[1,1,1])    # 8"
      ],
      "metadata": {
        "colab": {
          "base_uri": "https://localhost:8080/"
        },
        "id": "PV920GP_DDXb",
        "outputId": "107daf4f-b8de-4a4f-a01e-a874b8f1d451"
      },
      "execution_count": 24,
      "outputs": [
        {
          "output_type": "stream",
          "name": "stdout",
          "text": [
            "2\n",
            "4\n",
            "8\n",
            "8\n"
          ]
        }
      ]
    },
    {
      "cell_type": "code",
      "source": [
        "import numpy as np\n",
        "\n",
        "a = np.array([1,2,3,4,5,6,7,8,9])\n",
        "print(a[2:5])   # [3 4 5]              從第三項取值到第五項 ( 不包含第六項 )\n",
        "print(a[:5])    # [1 2 3 4 5]          從第一項取值到第五項 ( 不包含第六項 )\n",
        "print(a[2:])    # [3 4 5 6 7 8 9]      從第三項開始取值\n",
        "print(a[2:-1])  # [3 4 5 6 7 8]        從第三項取值到倒數第二項\n",
        "print(a[::2])   # [1 3 5 7 9]          間隔 2 取值\n",
        "print(a[2:8:2]) # [3 5 7]              第三項到第七項，間隔 2 取值\n",
        "print(a[::-1])  # [9 8 7 6 5 4 3 2 1]  反轉\n",
        "print(a[[1,3,5,7]])   # [2 4 6 8]      取出第二、第四、第六和第八項"
      ],
      "metadata": {
        "colab": {
          "base_uri": "https://localhost:8080/"
        },
        "id": "u9ZTCO42DUxC",
        "outputId": "6726ed83-fc08-4ddb-c0ca-d61b100d29ba"
      },
      "execution_count": 25,
      "outputs": [
        {
          "output_type": "stream",
          "name": "stdout",
          "text": [
            "[3 4 5]\n",
            "[1 2 3 4 5]\n",
            "[3 4 5 6 7 8 9]\n",
            "[3 4 5 6 7 8]\n",
            "[1 3 5 7 9]\n",
            "[3 5 7]\n",
            "[9 8 7 6 5 4 3 2 1]\n",
            "[2 4 6 8]\n"
          ]
        }
      ]
    },
    {
      "cell_type": "code",
      "source": [
        "import numpy as np\n",
        "\n",
        "a = np.array([[1,2,3,4,5],[6,7,8,9,10],[11,12,13,14,15]])\n",
        "print(a[0, 2:4])    # [3 4]\n",
        "print(a[1:, 2:4])\n",
        "'''\n",
        "[[ 8  9]\n",
        " [13 14]]\n",
        "'''\n",
        "print(a[:, 2:4])\n",
        "'''\n",
        "[[ 3  4]\n",
        " [ 8  9]\n",
        " [13 14]]\n",
        "'''"
      ],
      "metadata": {
        "colab": {
          "base_uri": "https://localhost:8080/",
          "height": 145
        },
        "id": "cxKE4SEmDXTj",
        "outputId": "90fc54b6-9b84-4a4d-d0e0-71fff22ebd9c"
      },
      "execution_count": 26,
      "outputs": [
        {
          "output_type": "stream",
          "name": "stdout",
          "text": [
            "[3 4]\n",
            "[[ 8  9]\n",
            " [13 14]]\n",
            "[[ 3  4]\n",
            " [ 8  9]\n",
            " [13 14]]\n"
          ]
        },
        {
          "output_type": "execute_result",
          "data": {
            "text/plain": [
              "'\\n[[ 3  4]\\n [ 8  9]\\n [13 14]]\\n'"
            ],
            "application/vnd.google.colaboratory.intrinsic+json": {
              "type": "string"
            }
          },
          "metadata": {},
          "execution_count": 26
        }
      ]
    },
    {
      "cell_type": "code",
      "source": [
        "import numpy as np\n",
        "a = np.array([1,2,3,4,5,6,7,8,9,10,11,12,13,14,15])\n",
        "print(a[a>5])             # [ 6  7  8  9 10 11 12 13 14 15] 篩選數值大於 5 的項目\n",
        "print(a[a%2==0])          # [ 2  4  6  8 10 12 14]          篩選出數值為偶數的項目\n",
        "print(a[(a>5) & (a<12)])  # [ 6  7  8  9 10 11]             篩選出數值為 5～12 之間的項目 ( 注意括號 )"
      ],
      "metadata": {
        "colab": {
          "base_uri": "https://localhost:8080/"
        },
        "id": "xQOIGutVDo_6",
        "outputId": "effa412e-04d2-462c-ffff-19d6b5406451"
      },
      "execution_count": 27,
      "outputs": [
        {
          "output_type": "stream",
          "name": "stdout",
          "text": [
            "[ 6  7  8  9 10 11 12 13 14 15]\n",
            "[ 2  4  6  8 10 12 14]\n",
            "[ 6  7  8  9 10 11]\n"
          ]
        }
      ]
    },
    {
      "cell_type": "code",
      "source": [
        "import numpy as np\n",
        "b = np.array([[1,2,3,4,5],[6,7,8,9,10],[11,12,13,14,15]])\n",
        "print(b[(b[:]>3) & (b[:]<13)])    # [ 4  5  6  7  8  9 10 11 12]"
      ],
      "metadata": {
        "colab": {
          "base_uri": "https://localhost:8080/"
        },
        "id": "77aWsUbADttU",
        "outputId": "bc44e2c5-7d15-4dfa-a606-6d72a11e2a6a"
      },
      "execution_count": 28,
      "outputs": [
        {
          "output_type": "stream",
          "name": "stdout",
          "text": [
            "[ 4  5  6  7  8  9 10 11 12]\n"
          ]
        }
      ]
    },
    {
      "cell_type": "code",
      "source": [
        "import numpy as np\n",
        "\n",
        "a = np.array([1,2,3,4,5,6])\n",
        "for i in a:\n",
        "    print(i, end=' ')      # 1 2 3 4 5 6\n",
        "print()\n",
        "b = np.array([[1,2,3],[4,5,6]])\n",
        "for i in b:\n",
        "    print(i, end=' ')      # [1 2 3] [4 5 6]\n",
        "print()\n",
        "for i in b:\n",
        "    for j in i:\n",
        "        print(j, end=' ')    # 1 2 3 4 5 6\n",
        "print()"
      ],
      "metadata": {
        "colab": {
          "base_uri": "https://localhost:8080/"
        },
        "id": "Rcfj70o2D8AD",
        "outputId": "4abf8ac1-4d6e-4bdf-dcd7-5167f591db4d"
      },
      "execution_count": 30,
      "outputs": [
        {
          "output_type": "stream",
          "name": "stdout",
          "text": [
            "1 2 3 4 5 6 \n",
            "[1 2 3] [4 5 6] \n",
            "1 2 3 4 5 6 \n"
          ]
        }
      ]
    },
    {
      "cell_type": "code",
      "source": [
        "import numpy as np\n",
        "\n",
        "b = np.array([[[1,2],[3,4]],[[5,6],[7,8]]])\n",
        "for i in b:\n",
        "    for j in i:\n",
        "        for k in j:\n",
        "            print(k, end=' ')    # 1 2 3 4 5 6 7 8 使用三次 for 迴圈，一層層取出資料\n",
        "print()\n",
        "for i in np.nditer(b):\n",
        "    print(i, end= ' ')           # 1 2 3 4 5 6 7 8 只使用一次 for 迴圈"
      ],
      "metadata": {
        "colab": {
          "base_uri": "https://localhost:8080/"
        },
        "id": "_Up_lMKmEFca",
        "outputId": "675bdf9e-b6fe-4610-a0f7-8596a27c00ff"
      },
      "execution_count": 31,
      "outputs": [
        {
          "output_type": "stream",
          "name": "stdout",
          "text": [
            "1 2 3 4 5 6 7 8 \n",
            "1 2 3 4 5 6 7 8 "
          ]
        }
      ]
    },
    {
      "cell_type": "code",
      "source": [
        "import numpy as np\n",
        "\n",
        "a = np.array([[[1,2,3],[4,5,6]],[[7,8,9],[10,11,12]]])\n",
        "for i in np.nditer(a[...,::2]):\n",
        "    print(i, end= ' ')      # 1 3 4 6 7 9 10 12"
      ],
      "metadata": {
        "colab": {
          "base_uri": "https://localhost:8080/"
        },
        "id": "dMiskQQWEX2b",
        "outputId": "1de12eb0-e876-4445-fa4c-0c7fc62cfe77"
      },
      "execution_count": 32,
      "outputs": [
        {
          "output_type": "stream",
          "name": "stdout",
          "text": [
            "1 3 4 6 7 9 10 12 "
          ]
        }
      ]
    },
    {
      "cell_type": "code",
      "source": [
        "import numpy as np\n",
        "\n",
        "a = np.array([[[1,2,3],[4,5,6]],[[7,8,9],[10,11,12]]])\n",
        "for i in np.nditer(a[...,::2], flags=['external_loop']):\n",
        "    print(i, end= ' ')    # [1 3] [4 6] [7 9] [10 12]"
      ],
      "metadata": {
        "colab": {
          "base_uri": "https://localhost:8080/"
        },
        "id": "2PVZoW0SEZLE",
        "outputId": "ba8d4fcc-81b3-4f96-a903-7a32261ae992"
      },
      "execution_count": 33,
      "outputs": [
        {
          "output_type": "stream",
          "name": "stdout",
          "text": [
            "[1 3] [4 6] [7 9] [10 12] "
          ]
        }
      ]
    },
    {
      "cell_type": "code",
      "source": [
        "import numpy as np\n",
        "\n",
        "a = np.array([[[1,2,3],[4,5,6]],[[7,8,9],[10,11,12]]])\n",
        "for i in np.nditer(a[...,::2], order='C'):\n",
        "    print(i, end= ' ')    # 1 3 4 6 7 9 10 12\n",
        "print()\n",
        "for i in np.nditer(a[...,::2], order='F'):\n",
        "    print(i, end= ' ')    #  7 4 10 3 9 6 12"
      ],
      "metadata": {
        "colab": {
          "base_uri": "https://localhost:8080/"
        },
        "id": "AVLh0bz9Ee26",
        "outputId": "9b6b6134-52dc-4a2c-ea25-2e3ce73e0e16"
      },
      "execution_count": 34,
      "outputs": [
        {
          "output_type": "stream",
          "name": "stdout",
          "text": [
            "1 3 4 6 7 9 10 12 \n",
            "1 7 4 10 3 9 6 12 "
          ]
        }
      ]
    },
    {
      "cell_type": "code",
      "source": [
        "import numpy as np\n",
        "\n",
        "a = np.array([[[1,2,3],[4,5,6]],[[7,8,9],[10,11,12]]])\n",
        "for i,j in np.ndenumerate(a):\n",
        "    print(i,j)\n",
        "'''\n",
        "(0, 0, 0) 1\n",
        "(0, 0, 1) 2\n",
        "(0, 0, 2) 3\n",
        "(0, 1, 0) 4\n",
        "(0, 1, 1) 5\n",
        "(0, 1, 2) 6\n",
        "(1, 0, 0) 7\n",
        "(1, 0, 1) 8\n",
        "(1, 0, 2) 9\n",
        "(1, 1, 0) 10\n",
        "(1, 1, 1) 11\n",
        "(1, 1, 2) 12\n",
        "'''"
      ],
      "metadata": {
        "colab": {
          "base_uri": "https://localhost:8080/",
          "height": 255
        },
        "id": "24_SxmtWEha8",
        "outputId": "2c790cf6-0ba3-4c3b-99da-56150c46ad80"
      },
      "execution_count": 35,
      "outputs": [
        {
          "output_type": "stream",
          "name": "stdout",
          "text": [
            "(0, 0, 0) 1\n",
            "(0, 0, 1) 2\n",
            "(0, 0, 2) 3\n",
            "(0, 1, 0) 4\n",
            "(0, 1, 1) 5\n",
            "(0, 1, 2) 6\n",
            "(1, 0, 0) 7\n",
            "(1, 0, 1) 8\n",
            "(1, 0, 2) 9\n",
            "(1, 1, 0) 10\n",
            "(1, 1, 1) 11\n",
            "(1, 1, 2) 12\n"
          ]
        },
        {
          "output_type": "execute_result",
          "data": {
            "text/plain": [
              "'\\n(0, 0, 0) 1\\n(0, 0, 1) 2\\n(0, 0, 2) 3\\n(0, 1, 0) 4\\n(0, 1, 1) 5\\n(0, 1, 2) 6\\n(1, 0, 0) 7\\n(1, 0, 1) 8\\n(1, 0, 2) 9\\n(1, 1, 0) 10\\n(1, 1, 1) 11\\n(1, 1, 2) 12\\n'"
            ],
            "application/vnd.google.colaboratory.intrinsic+json": {
              "type": "string"
            }
          },
          "metadata": {},
          "execution_count": 35
        }
      ]
    },
    {
      "cell_type": "code",
      "source": [
        "import numpy as np\n",
        "a = np.zeros((5,5))\n",
        "a[0][0] = 1\n",
        "a[1][1] = 2\n",
        "a[2][2] = 3\n",
        "a[3][3] = 4\n",
        "a[4][4] = 5\n",
        "print(a)\n",
        "'''\n",
        "  [[1. 0. 0. 0. 0.]\n",
        "   [0. 2. 0. 0. 0.]\n",
        "   [0. 0. 3. 0. 0.]\n",
        "   [0. 0. 0. 4. 0.]\n",
        "   [0. 0. 0. 0. 5.]]\n",
        "'''"
      ],
      "metadata": {
        "colab": {
          "base_uri": "https://localhost:8080/",
          "height": 127
        },
        "id": "L9Wr7ELQEmjx",
        "outputId": "f07e0356-0159-41a3-a09a-ddf2bf4c0919"
      },
      "execution_count": 36,
      "outputs": [
        {
          "output_type": "stream",
          "name": "stdout",
          "text": [
            "[[1. 0. 0. 0. 0.]\n",
            " [0. 2. 0. 0. 0.]\n",
            " [0. 0. 3. 0. 0.]\n",
            " [0. 0. 0. 4. 0.]\n",
            " [0. 0. 0. 0. 5.]]\n"
          ]
        },
        {
          "output_type": "execute_result",
          "data": {
            "text/plain": [
              "'\\n  [[1. 0. 0. 0. 0.]\\n   [0. 2. 0. 0. 0.]\\n   [0. 0. 3. 0. 0.]\\n   [0. 0. 0. 4. 0.]\\n   [0. 0. 0. 0. 5.]]\\n'"
            ],
            "application/vnd.google.colaboratory.intrinsic+json": {
              "type": "string"
            }
          },
          "metadata": {},
          "execution_count": 36
        }
      ]
    },
    {
      "cell_type": "code",
      "source": [
        "import numpy as np\n",
        "a = np.zeros((5,5))\n",
        "a[0,0] = 1\n",
        "a[1,1] = 2\n",
        "a[2,2] = 3\n",
        "a[3,3] = 4\n",
        "a[4,4] = 5\n",
        "print(a)\n",
        "'''\n",
        "  [[1. 0. 0. 0. 0.]\n",
        "   [0. 2. 0. 0. 0.]\n",
        "   [0. 0. 3. 0. 0.]\n",
        "   [0. 0. 0. 4. 0.]\n",
        "   [0. 0. 0. 0. 5.]]\n",
        "'''"
      ],
      "metadata": {
        "colab": {
          "base_uri": "https://localhost:8080/",
          "height": 127
        },
        "id": "7XnKA8AtEtyJ",
        "outputId": "27bfe727-6e83-4d08-8c4e-43d397c7780c"
      },
      "execution_count": 37,
      "outputs": [
        {
          "output_type": "stream",
          "name": "stdout",
          "text": [
            "[[1. 0. 0. 0. 0.]\n",
            " [0. 2. 0. 0. 0.]\n",
            " [0. 0. 3. 0. 0.]\n",
            " [0. 0. 0. 4. 0.]\n",
            " [0. 0. 0. 0. 5.]]\n"
          ]
        },
        {
          "output_type": "execute_result",
          "data": {
            "text/plain": [
              "'\\n  [[1. 0. 0. 0. 0.]\\n   [0. 2. 0. 0. 0.]\\n   [0. 0. 3. 0. 0.]\\n   [0. 0. 0. 4. 0.]\\n   [0. 0. 0. 0. 5.]]\\n'"
            ],
            "application/vnd.google.colaboratory.intrinsic+json": {
              "type": "string"
            }
          },
          "metadata": {},
          "execution_count": 37
        }
      ]
    },
    {
      "cell_type": "code",
      "source": [
        "import numpy as np\n",
        "a = np.zeros((3,5))\n",
        "a[0,[2,3,4]] = 100\n",
        "print(a)\n",
        "'''\n",
        "  [[  0.   0. 100. 100. 100.]\n",
        "   [  0.   0.   0.   0.   0.]\n",
        "   [  0.   0.   0.   0.   0.]]\n",
        "'''"
      ],
      "metadata": {
        "colab": {
          "base_uri": "https://localhost:8080/",
          "height": 90
        },
        "id": "R5jyZtu8EyEC",
        "outputId": "28c7e4da-d051-4d43-a378-fe090212dd48"
      },
      "execution_count": 39,
      "outputs": [
        {
          "output_type": "stream",
          "name": "stdout",
          "text": [
            "[[  0.   0. 100. 100. 100.]\n",
            " [  0.   0.   0.   0.   0.]\n",
            " [  0.   0.   0.   0.   0.]]\n"
          ]
        },
        {
          "output_type": "execute_result",
          "data": {
            "text/plain": [
              "'\\n  [[  0.   0. 100. 100. 100.]\\n   [  0.   0.   0.   0.   0.]\\n   [  0.   0.   0.   0.   0.]]\\n'"
            ],
            "application/vnd.google.colaboratory.intrinsic+json": {
              "type": "string"
            }
          },
          "metadata": {},
          "execution_count": 39
        }
      ]
    },
    {
      "cell_type": "code",
      "source": [
        "import numpy as np\n",
        "a = np.zeros((3,5))\n",
        "a[0,2:5] = 100\n",
        "print(a)\n",
        "'''\n",
        "  [[  0.   0. 100. 100. 100.]\n",
        "   [  0.   0.   0.   0.   0.]\n",
        "   [  0.   0.   0.   0.   0.]]\n",
        "'''"
      ],
      "metadata": {
        "colab": {
          "base_uri": "https://localhost:8080/",
          "height": 90
        },
        "id": "qEGEeQeEE4Xb",
        "outputId": "e36a54d5-5cc0-4401-91f1-02add0b0fcf0"
      },
      "execution_count": 40,
      "outputs": [
        {
          "output_type": "stream",
          "name": "stdout",
          "text": [
            "[[  0.   0. 100. 100. 100.]\n",
            " [  0.   0.   0.   0.   0.]\n",
            " [  0.   0.   0.   0.   0.]]\n"
          ]
        },
        {
          "output_type": "execute_result",
          "data": {
            "text/plain": [
              "'\\n  [[  0.   0. 100. 100. 100.]\\n   [  0.   0.   0.   0.   0.]\\n   [  0.   0.   0.   0.   0.]]\\n'"
            ],
            "application/vnd.google.colaboratory.intrinsic+json": {
              "type": "string"
            }
          },
          "metadata": {},
          "execution_count": 40
        }
      ]
    },
    {
      "cell_type": "code",
      "source": [
        "import numpy as np\n",
        "a = np.zeros((10,10))\n",
        "a[2:8,2:8] = 1\n",
        "print(a)\n",
        "'''\n",
        "  [[0. 0. 0. 0. 0. 0. 0. 0. 0. 0.]\n",
        "   [0. 0. 0. 0. 0. 0. 0. 0. 0. 0.]\n",
        "   [0. 0. 1. 1. 1. 1. 1. 1. 0. 0.]\n",
        "   [0. 0. 1. 1. 1. 1. 1. 1. 0. 0.]\n",
        "   [0. 0. 1. 1. 1. 1. 1. 1. 0. 0.]\n",
        "   [0. 0. 1. 1. 1. 1. 1. 1. 0. 0.]\n",
        "   [0. 0. 1. 1. 1. 1. 1. 1. 0. 0.]\n",
        "   [0. 0. 1. 1. 1. 1. 1. 1. 0. 0.]\n",
        "   [0. 0. 0. 0. 0. 0. 0. 0. 0. 0.]\n",
        "   [0. 0. 0. 0. 0. 0. 0. 0. 0. 0.]]\n",
        "'''"
      ],
      "metadata": {
        "colab": {
          "base_uri": "https://localhost:8080/",
          "height": 237
        },
        "id": "xim8Cj6sE_Yt",
        "outputId": "aedcfe66-c8ec-4419-f508-e34c2740f5e4"
      },
      "execution_count": 41,
      "outputs": [
        {
          "output_type": "stream",
          "name": "stdout",
          "text": [
            "[[0. 0. 0. 0. 0. 0. 0. 0. 0. 0.]\n",
            " [0. 0. 0. 0. 0. 0. 0. 0. 0. 0.]\n",
            " [0. 0. 1. 1. 1. 1. 1. 1. 0. 0.]\n",
            " [0. 0. 1. 1. 1. 1. 1. 1. 0. 0.]\n",
            " [0. 0. 1. 1. 1. 1. 1. 1. 0. 0.]\n",
            " [0. 0. 1. 1. 1. 1. 1. 1. 0. 0.]\n",
            " [0. 0. 1. 1. 1. 1. 1. 1. 0. 0.]\n",
            " [0. 0. 1. 1. 1. 1. 1. 1. 0. 0.]\n",
            " [0. 0. 0. 0. 0. 0. 0. 0. 0. 0.]\n",
            " [0. 0. 0. 0. 0. 0. 0. 0. 0. 0.]]\n"
          ]
        },
        {
          "output_type": "execute_result",
          "data": {
            "text/plain": [
              "'\\n  [[0. 0. 0. 0. 0. 0. 0. 0. 0. 0.]\\n   [0. 0. 0. 0. 0. 0. 0. 0. 0. 0.]\\n   [0. 0. 1. 1. 1. 1. 1. 1. 0. 0.]\\n   [0. 0. 1. 1. 1. 1. 1. 1. 0. 0.]\\n   [0. 0. 1. 1. 1. 1. 1. 1. 0. 0.]\\n   [0. 0. 1. 1. 1. 1. 1. 1. 0. 0.]\\n   [0. 0. 1. 1. 1. 1. 1. 1. 0. 0.]\\n   [0. 0. 1. 1. 1. 1. 1. 1. 0. 0.]\\n   [0. 0. 0. 0. 0. 0. 0. 0. 0. 0.]\\n   [0. 0. 0. 0. 0. 0. 0. 0. 0. 0.]]\\n'"
            ],
            "application/vnd.google.colaboratory.intrinsic+json": {
              "type": "string"
            }
          },
          "metadata": {},
          "execution_count": 41
        }
      ]
    },
    {
      "cell_type": "code",
      "source": [
        "import numpy as np\n",
        "\n",
        "a = np.array([1,2,3,4,5,6,7,8])\n",
        "b = a.reshape((4,2))\n",
        "print(b)\n",
        "'''\n",
        "[[1 2]\n",
        "[3 4]\n",
        "[5 6]\n",
        "[7 8]]\n",
        "'''\n",
        "c = a.reshape((2,4))\n",
        "print(c)\n",
        "'''\n",
        "[[1 2 3 4]\n",
        "[5 6 7 8]]\n",
        "'''"
      ],
      "metadata": {
        "colab": {
          "base_uri": "https://localhost:8080/",
          "height": 145
        },
        "id": "TEsGGxbWFL5M",
        "outputId": "3e0dc6db-873d-46cf-aef9-e7e4f1b64a8d"
      },
      "execution_count": 42,
      "outputs": [
        {
          "output_type": "stream",
          "name": "stdout",
          "text": [
            "[[1 2]\n",
            " [3 4]\n",
            " [5 6]\n",
            " [7 8]]\n",
            "[[1 2 3 4]\n",
            " [5 6 7 8]]\n"
          ]
        },
        {
          "output_type": "execute_result",
          "data": {
            "text/plain": [
              "'\\n[[1 2 3 4]\\n[5 6 7 8]]\\n'"
            ],
            "application/vnd.google.colaboratory.intrinsic+json": {
              "type": "string"
            }
          },
          "metadata": {},
          "execution_count": 42
        }
      ]
    },
    {
      "cell_type": "code",
      "source": [
        "import numpy as np\n",
        "\n",
        "a = np.array([[1,2],[3,4],[5,6],[7,8]])\n",
        "b = a.reshape(-1)        # 轉換成一維陣列\n",
        "print(b)                 # [1 2 3 4 5 6 7 8]\n",
        "c = a.reshape((2,-1))    # 等同 a.reshape((2,4))\n",
        "print(c)\n",
        "'''\n",
        "[[1 2 3 4]\n",
        "[5 6 7 8]]\n",
        "'''\n",
        "d = a.reshape((2,2,-1))  # 等同 a.reshape((2,2,2))\n",
        "print(d)\n",
        "'''\n",
        "[[[1 2]\n",
        "  [3 4]]\n",
        "\n",
        "[[5 6]\n",
        "  [7 8]]]\n",
        "'''"
      ],
      "metadata": {
        "colab": {
          "base_uri": "https://localhost:8080/",
          "height": 182
        },
        "id": "5nGX_Cf6FUua",
        "outputId": "4d82691a-1194-4d94-b3fa-89d445bca5b9"
      },
      "execution_count": 43,
      "outputs": [
        {
          "output_type": "stream",
          "name": "stdout",
          "text": [
            "[1 2 3 4 5 6 7 8]\n",
            "[[1 2 3 4]\n",
            " [5 6 7 8]]\n",
            "[[[1 2]\n",
            "  [3 4]]\n",
            "\n",
            " [[5 6]\n",
            "  [7 8]]]\n"
          ]
        },
        {
          "output_type": "execute_result",
          "data": {
            "text/plain": [
              "'\\n[[[1 2]\\n  [3 4]]    \\n\\n[[5 6]\\n  [7 8]]]\\n'"
            ],
            "application/vnd.google.colaboratory.intrinsic+json": {
              "type": "string"
            }
          },
          "metadata": {},
          "execution_count": 43
        }
      ]
    },
    {
      "cell_type": "code",
      "source": [
        "import numpy as np\n",
        "\n",
        "a = np.array([[1,2],[3,4],[5,6],[7,8]])\n",
        "b = a.flatten('C')    # [1 2 3 4 5 6 7 8]\n",
        "c = a.flatten('F')    # [1 2 3 4 5 6 7 8]\n",
        "b1 = np.ravel(a,'C')  # [1 3 5 7 2 4 6 8]\n",
        "c1 = np.ravel(a,'K')  # [1 2 3 4 5 6 7 8]"
      ],
      "metadata": {
        "id": "eyfIsQa9FbMr"
      },
      "execution_count": 45,
      "outputs": []
    },
    {
      "cell_type": "code",
      "source": [
        "import numpy as np\n",
        "\n",
        "a = np.array([[1,2],[3,4],[5,6],[7,8]])\n",
        "b = a.flat[3]\n",
        "print(b)    # 4"
      ],
      "metadata": {
        "colab": {
          "base_uri": "https://localhost:8080/"
        },
        "id": "xgGjunhyFfeK",
        "outputId": "79d73cc5-7e2a-4f38-b3f0-14d4515b7130"
      },
      "execution_count": 46,
      "outputs": [
        {
          "output_type": "stream",
          "name": "stdout",
          "text": [
            "4\n"
          ]
        }
      ]
    },
    {
      "cell_type": "code",
      "source": [
        "import numpy as np\n",
        "\n",
        "a = np.array([[1,2],[3,4]])\n",
        "b = a.T\n",
        "c = np.transpose(a)\n",
        "print(b)\n",
        "'''\n",
        "[[1 3]\n",
        " [2 4]]\n",
        "'''\n",
        "print(c)\n",
        "'''\n",
        "[[1 3]\n",
        " [2 4]]\n",
        "'''"
      ],
      "metadata": {
        "colab": {
          "base_uri": "https://localhost:8080/",
          "height": 109
        },
        "id": "D3L_bVoyFhSs",
        "outputId": "dd894920-4094-47f8-fdf3-80b2880d7af9"
      },
      "execution_count": 47,
      "outputs": [
        {
          "output_type": "stream",
          "name": "stdout",
          "text": [
            "[[1 3]\n",
            " [2 4]]\n",
            "[[1 3]\n",
            " [2 4]]\n"
          ]
        },
        {
          "output_type": "execute_result",
          "data": {
            "text/plain": [
              "'\\n[[1 3]\\n [2 4]]\\n'"
            ],
            "application/vnd.google.colaboratory.intrinsic+json": {
              "type": "string"
            }
          },
          "metadata": {},
          "execution_count": 47
        }
      ]
    },
    {
      "cell_type": "code",
      "source": [
        "import numpy as np\n",
        "\n",
        "a = np.array([[1,1,1],[2,2,2],[3,3,3]])\n",
        "b = np.rollaxis(a,0,0)\n",
        "c = np.rollaxis(a,1,0)\n",
        "print(b)\n",
        "'''\n",
        "[[1 1 1]\n",
        " [2 2 2]\n",
        " [3 3 3]]\n",
        "'''\n",
        "print(c)\n",
        "'''\n",
        "[[1 2 3]\n",
        " [1 2 3]\n",
        " [1 2 3]]\n",
        "'''\n",
        "#numpy.rollaxis 共有三個參數 arr 表示陣列，axis 表示起始的軸，start 表示滾動的特定位置。"
      ],
      "metadata": {
        "colab": {
          "base_uri": "https://localhost:8080/",
          "height": 145
        },
        "id": "Quo10MRCF8QC",
        "outputId": "f1c99520-3c7e-4178-8086-57f6329756a2"
      },
      "execution_count": 48,
      "outputs": [
        {
          "output_type": "stream",
          "name": "stdout",
          "text": [
            "[[1 1 1]\n",
            " [2 2 2]\n",
            " [3 3 3]]\n",
            "[[1 2 3]\n",
            " [1 2 3]\n",
            " [1 2 3]]\n"
          ]
        },
        {
          "output_type": "execute_result",
          "data": {
            "text/plain": [
              "'\\n[[1 2 3]\\n [1 2 3]\\n [1 2 3]]\\n'"
            ],
            "application/vnd.google.colaboratory.intrinsic+json": {
              "type": "string"
            }
          },
          "metadata": {},
          "execution_count": 48
        }
      ]
    },
    {
      "cell_type": "code",
      "source": [
        "import numpy as np\n",
        "\n",
        "a = np.array([[1,1,1],[2,2,2],[3,3,3]])\n",
        "b = np.swapaxes(a,0,0)\n",
        "c = np.swapaxes(a,0,1)\n",
        "print(b)\n",
        "'''\n",
        "[[1 1 1]\n",
        " [2 2 2]\n",
        " [3 3 3]]\n",
        "'''\n",
        "print(c)\n",
        "'''\n",
        "[[1 2 3]\n",
        " [1 2 3]\n",
        " [1 2 3]]\n",
        "'''\n",
        "#numpy.swapaxes 共有三個參數 arr 表示陣列，axis1 是對應第一個軸的整數，axis2 是對應第二個軸的整數。\n",
        "\n"
      ],
      "metadata": {
        "colab": {
          "base_uri": "https://localhost:8080/",
          "height": 145
        },
        "id": "rHVAmbKJFhcS",
        "outputId": "913f2676-3308-4b73-9a71-003e73119ded"
      },
      "execution_count": 49,
      "outputs": [
        {
          "output_type": "stream",
          "name": "stdout",
          "text": [
            "[[1 1 1]\n",
            " [2 2 2]\n",
            " [3 3 3]]\n",
            "[[1 2 3]\n",
            " [1 2 3]\n",
            " [1 2 3]]\n"
          ]
        },
        {
          "output_type": "execute_result",
          "data": {
            "text/plain": [
              "'\\n[[1 2 3]\\n [1 2 3]\\n [1 2 3]]\\n'"
            ],
            "application/vnd.google.colaboratory.intrinsic+json": {
              "type": "string"
            }
          },
          "metadata": {},
          "execution_count": 49
        }
      ]
    },
    {
      "cell_type": "code",
      "source": [
        "import numpy as np\n",
        "\n",
        "a = np.array([[1,1,1],[2,2,2]])\n",
        "b = np.resize(a, (3,2))\n",
        "print(b)\n",
        "'''\n",
        "[[1 1]\n",
        "  [1 2]\n",
        "  [2 2]]\n",
        "'''\n",
        "c = np.resize(a, (5,5))\n",
        "print(c)\n",
        "'''\n",
        "[[1 1 1 2 2]\n",
        " [2 1 1 1 2]\n",
        " [2 2 1 1 1]\n",
        " [2 2 2 1 1]\n",
        " [1 2 2 2 1]]\n",
        "'''\n",
        "d = np.resize(a, (2,2))\n",
        "print(d)\n",
        "'''\n",
        "[[1 1]\n",
        " [1 2]]\n",
        "'''"
      ],
      "metadata": {
        "colab": {
          "base_uri": "https://localhost:8080/",
          "height": 218
        },
        "id": "_R_u9uX3GPeM",
        "outputId": "644e58bb-b824-430b-f657-fb6a4dd6646c"
      },
      "execution_count": 50,
      "outputs": [
        {
          "output_type": "stream",
          "name": "stdout",
          "text": [
            "[[1 1]\n",
            " [1 2]\n",
            " [2 2]]\n",
            "[[1 1 1 2 2]\n",
            " [2 1 1 1 2]\n",
            " [2 2 1 1 1]\n",
            " [2 2 2 1 1]\n",
            " [1 2 2 2 1]]\n",
            "[[1 1]\n",
            " [1 2]]\n"
          ]
        },
        {
          "output_type": "execute_result",
          "data": {
            "text/plain": [
              "'\\n[[1 1]\\n [1 2]]\\n'"
            ],
            "application/vnd.google.colaboratory.intrinsic+json": {
              "type": "string"
            }
          },
          "metadata": {},
          "execution_count": 50
        }
      ]
    },
    {
      "cell_type": "code",
      "source": [
        "import numpy as np\n",
        "\n",
        "a = np.array([[1,1,1],[2,2,2]])\n",
        "b = np.append(a, 1)\n",
        "c = np.append(a, [3,3,3])\n",
        "print(b)   # [1 1 1 2 2 2 1]\n",
        "print(c)   # [1 1 1 2 2 2 3 3 3]"
      ],
      "metadata": {
        "colab": {
          "base_uri": "https://localhost:8080/"
        },
        "id": "9-l6AjmUGUT7",
        "outputId": "721fd1f8-2bc3-4ad3-8762-535cbd92d63d"
      },
      "execution_count": 51,
      "outputs": [
        {
          "output_type": "stream",
          "name": "stdout",
          "text": [
            "[1 1 1 2 2 2 1]\n",
            "[1 1 1 2 2 2 3 3 3]\n"
          ]
        }
      ]
    },
    {
      "cell_type": "code",
      "source": [
        "import numpy as np\n",
        "\n",
        "a = np.array([[1,1,1],[2,2,2]])\n",
        "b = np.append(a, [[3,3,3],[4,4,4]],1)\n",
        "print(b)\n",
        "'''\n",
        "[[1 1 1 3 3 3]\n",
        " [2 2 2 4 4 4]]\n",
        "'''\n",
        "c = np.append(a, [[3,3,3],[4,4,4]],0)\n",
        "print(c)\n",
        "'''\n",
        "[[1 1 1]\n",
        " [2 2 2]\n",
        " [3 3 3]\n",
        " [4 4 4]]\n",
        "'''"
      ],
      "metadata": {
        "colab": {
          "base_uri": "https://localhost:8080/",
          "height": 145
        },
        "id": "knFORGVXGWNj",
        "outputId": "4a44540d-8e50-4003-e945-0ef9658f48ed"
      },
      "execution_count": 52,
      "outputs": [
        {
          "output_type": "stream",
          "name": "stdout",
          "text": [
            "[[1 1 1 3 3 3]\n",
            " [2 2 2 4 4 4]]\n",
            "[[1 1 1]\n",
            " [2 2 2]\n",
            " [3 3 3]\n",
            " [4 4 4]]\n"
          ]
        },
        {
          "output_type": "execute_result",
          "data": {
            "text/plain": [
              "'\\n[[1 1 1]\\n [2 2 2]\\n [3 3 3]\\n [4 4 4]]\\n'"
            ],
            "application/vnd.google.colaboratory.intrinsic+json": {
              "type": "string"
            }
          },
          "metadata": {},
          "execution_count": 52
        }
      ]
    },
    {
      "cell_type": "code",
      "source": [
        "import numpy as np\n",
        "\n",
        "a = np.array([[1,1],[2,2],[3,3]])\n",
        "b = np.insert(a, 1, [4,4])\n",
        "c = np.insert(a, 2, [4,4])\n",
        "print(b)   # [1 4 4 1 2 2 3 3]\n",
        "print(c)   # [1 1 4 4 2 2 3 3]\n",
        "d = np.insert(a, 2, [4,4], 0)\n",
        "print(d)\n",
        "'''\n",
        "[[1 1]\n",
        " [2 2]\n",
        " [4 4]\n",
        " [3 3]]\n",
        "'''"
      ],
      "metadata": {
        "colab": {
          "base_uri": "https://localhost:8080/",
          "height": 145
        },
        "id": "jW_Dv-JFG1-i",
        "outputId": "a46e8380-a672-434a-a5de-bfd204874177"
      },
      "execution_count": 53,
      "outputs": [
        {
          "output_type": "stream",
          "name": "stdout",
          "text": [
            "[1 4 4 1 2 2 3 3]\n",
            "[1 1 4 4 2 2 3 3]\n",
            "[[1 1]\n",
            " [2 2]\n",
            " [4 4]\n",
            " [3 3]]\n"
          ]
        },
        {
          "output_type": "execute_result",
          "data": {
            "text/plain": [
              "'\\n[[1 1]\\n [2 2]\\n [4 4]\\n [3 3]]\\n'"
            ],
            "application/vnd.google.colaboratory.intrinsic+json": {
              "type": "string"
            }
          },
          "metadata": {},
          "execution_count": 53
        }
      ]
    },
    {
      "cell_type": "code",
      "source": [
        "import numpy as np\n",
        "\n",
        "a = np.array([[1,2],[3,4],[5,6]])\n",
        "b = np.delete(a, 1)\n",
        "c = np.delete(a, 2)\n",
        "print(b)    # [1 3 4 5 6]\n",
        "print(c)    # [1 2 4 5 6]\n",
        "d = np.delete(a, 2, 0)\n",
        "print(d)\n",
        "'''\n",
        "[[1 2]\n",
        " [3 4]]\n",
        "'''"
      ],
      "metadata": {
        "colab": {
          "base_uri": "https://localhost:8080/",
          "height": 109
        },
        "id": "_9KUoymYG536",
        "outputId": "53899407-308a-4ca9-e9e3-a447eef2dc7c"
      },
      "execution_count": 54,
      "outputs": [
        {
          "output_type": "stream",
          "name": "stdout",
          "text": [
            "[1 3 4 5 6]\n",
            "[1 2 4 5 6]\n",
            "[[1 2]\n",
            " [3 4]]\n"
          ]
        },
        {
          "output_type": "execute_result",
          "data": {
            "text/plain": [
              "'\\n[[1 2]\\n [3 4]]\\n'"
            ],
            "application/vnd.google.colaboratory.intrinsic+json": {
              "type": "string"
            }
          },
          "metadata": {},
          "execution_count": 54
        }
      ]
    },
    {
      "cell_type": "code",
      "source": [
        "import numpy as np\n",
        "\n",
        "a = np.array([[1,1],[2,2],[3,3]])\n",
        "b = np.unique(a)\n",
        "c = np.unique(a, return_index=True)\n",
        "d = np.unique(a, return_inverse=True)\n",
        "e = np.unique(a, return_counts=True)\n",
        "print(b)   # [1 2 3]\n",
        "print(c)   # (array([1, 2, 3]), array([0, 2, 4]))\n",
        "print(d)   # (array([1, 2, 3]), array([0, 0, 1, 1, 2, 2]))\n",
        "print(e)   # (array([1, 2, 3]), array([2, 2, 2]))"
      ],
      "metadata": {
        "colab": {
          "base_uri": "https://localhost:8080/"
        },
        "id": "mp1z5RACG-Gq",
        "outputId": "803ff3d9-4a65-47e6-96ec-7627684b1a6d"
      },
      "execution_count": 55,
      "outputs": [
        {
          "output_type": "stream",
          "name": "stdout",
          "text": [
            "[1 2 3]\n",
            "(array([1, 2, 3]), array([0, 2, 4]))\n",
            "(array([1, 2, 3]), array([0, 0, 1, 1, 2, 2]))\n",
            "(array([1, 2, 3]), array([2, 2, 2]))\n"
          ]
        }
      ]
    },
    {
      "cell_type": "code",
      "source": [
        "import numpy as np\n",
        "a = np.array([-2,-1,0,1,2])\n",
        "print(np.pad(a,5))\n",
        "# 左右各多出五個空格，填入 0\n",
        " # [ 0  0  0  0  0 -2 -1  0  1  2  0  0  0  0  0]\n",
        "\n",
        "print(np.pad(a,5,constant_values = (5,8)))\n",
        "# 左右各多出五個空格，左邊填入 5，右邊填入 8\n",
        "# [ 5  5  5  5  5 -2 -1  0  1  2  8  8  8  8  8]\n",
        "\n",
        "print(np.pad(a,(1,5)))\n",
        "# 左邊多出一個空格，右邊多出五個空格，填入 0\n",
        "# [ 0 -2 -1  0  1  2  0  0  0  0  0]\n",
        "\n",
        "print(np.pad(a,(1,5),constant_values = (5,8)))\n",
        "# 左邊多出一個空格，右邊多出五個空格，左邊填入 5，右邊填入 8\n",
        "# [ 5 -2 -1  0  1  2  8  8  8  8  8]"
      ],
      "metadata": {
        "colab": {
          "base_uri": "https://localhost:8080/"
        },
        "id": "AKGJSjd6HZ_c",
        "outputId": "9260b88b-0cd3-497c-e81a-168b2cb641db"
      },
      "execution_count": 56,
      "outputs": [
        {
          "output_type": "stream",
          "name": "stdout",
          "text": [
            "[ 0  0  0  0  0 -2 -1  0  1  2  0  0  0  0  0]\n",
            "[ 5  5  5  5  5 -2 -1  0  1  2  8  8  8  8  8]\n",
            "[ 0 -2 -1  0  1  2  0  0  0  0  0]\n",
            "[ 5 -2 -1  0  1  2  8  8  8  8  8]\n"
          ]
        }
      ]
    },
    {
      "cell_type": "code",
      "source": [
        "import numpy as np\n",
        "a = np.array([-2,-1,0,1,2])\n",
        "print(np.pad(a,5,mode='edge'))        # [-2 -2 -2 -2 -2 -2 -1  0  1  2  2  2  2  2  2]\n",
        "print(np.pad(a,5,mode='linear_ramp')) # [ 0  0  0 -1 -1 -2 -1  0  1  2  1  1  0  0  0]\n",
        "print(np.pad(a,5,mode='maximum'))     # [ 2  2  2  2  2 -2 -1  0  1  2  2  2  2  2  2]\n",
        "print(np.pad(a,5,mode='mean'))        # [ 0  0  0  0  0 -2 -1  0  1  2  0  0  0  0  0]\n",
        "print(np.pad(a,5,mode='median'))      # [ 0  0  0  0  0 -2 -1  0  1  2  0  0  0  0  0]\n",
        "print(np.pad(a,5,mode='minimum'))     # [-2 -2 -2 -2 -2 -2 -1  0  1  2 -2 -2 -2 -2 -2]\n",
        "print(np.pad(a,5,mode='reflect'))     # [ 1  2  1  0 -1 -2 -1  0  1  2  1  0 -1 -2 -1]\n",
        "print(np.pad(a,5,mode='symmetric'))   # [ 2  1  0 -1 -2 -2 -1  0  1  2  2  1  0 -1 -2]\n",
        "print(np.pad(a,5,mode='wrap'))        # [-2 -1  0  1  2 -2 -1  0  1  2 -2 -1  0  1  2]\n",
        "\n",
        "#填充多維陣列"
      ],
      "metadata": {
        "colab": {
          "base_uri": "https://localhost:8080/"
        },
        "id": "B96rqrtZHbVL",
        "outputId": "4260a768-2238-42f5-fc88-8db63ad5ec27"
      },
      "execution_count": 58,
      "outputs": [
        {
          "output_type": "stream",
          "name": "stdout",
          "text": [
            "[-2 -2 -2 -2 -2 -2 -1  0  1  2  2  2  2  2  2]\n",
            "[ 0 -1 -1 -2 -2 -2 -1  0  1  2  1  1  0  0  0]\n",
            "[ 2  2  2  2  2 -2 -1  0  1  2  2  2  2  2  2]\n",
            "[ 0  0  0  0  0 -2 -1  0  1  2  0  0  0  0  0]\n",
            "[ 0  0  0  0  0 -2 -1  0  1  2  0  0  0  0  0]\n",
            "[-2 -2 -2 -2 -2 -2 -1  0  1  2 -2 -2 -2 -2 -2]\n",
            "[ 1  2  1  0 -1 -2 -1  0  1  2  1  0 -1 -2 -1]\n",
            "[ 2  1  0 -1 -2 -2 -1  0  1  2  2  1  0 -1 -2]\n",
            "[-2 -1  0  1  2 -2 -1  0  1  2 -2 -1  0  1  2]\n"
          ]
        }
      ]
    },
    {
      "cell_type": "code",
      "source": [
        "import numpy as np\n",
        "a = np.array([[1,1],[2,2]])\n",
        "print(np.pad(a,2))\n",
        "'''\n",
        "[[0 0 0 0 0 0]\n",
        " [0 0 0 0 0 0]\n",
        " [0 0 1 1 0 0]\n",
        " [0 0 2 2 0 0]\n",
        " [0 0 0 0 0 0]\n",
        " [0 0 0 0 0 0]]\n",
        "'''\n",
        "print(np.pad(a,2,constant_values = (5,8)))\n",
        "'''\n",
        "[[5 5 5 5 8 8]\n",
        " [5 5 5 5 8 8]\n",
        " [5 5 1 1 8 8]\n",
        " [5 5 2 2 8 8]\n",
        " [5 5 8 8 8 8]\n",
        " [5 5 8 8 8 8]]\n",
        "'''\n",
        "print(np.pad(a,(1,2)))\n",
        "'''\n",
        "[[0 0 0 0 0]\n",
        " [0 1 1 0 0]\n",
        " [0 2 2 0 0]\n",
        " [0 0 0 0 0]\n",
        " [0 0 0 0 0]]\n",
        "'''\n",
        "print(np.pad(a,(1,2),constant_values = (5,8)))\n",
        "'''\n",
        "[[5 5 5 8 8]\n",
        " [5 1 1 8 8]\n",
        " [5 2 2 8 8]\n",
        " [5 8 8 8 8]\n",
        " [5 8 8 8 8]]\n",
        "'''"
      ],
      "metadata": {
        "colab": {
          "base_uri": "https://localhost:8080/",
          "height": 437
        },
        "id": "OdmJTDI_Hfhj",
        "outputId": "a5d57024-76bb-4d97-8669-4aa108f1d105"
      },
      "execution_count": 59,
      "outputs": [
        {
          "output_type": "stream",
          "name": "stdout",
          "text": [
            "[[0 0 0 0 0 0]\n",
            " [0 0 0 0 0 0]\n",
            " [0 0 1 1 0 0]\n",
            " [0 0 2 2 0 0]\n",
            " [0 0 0 0 0 0]\n",
            " [0 0 0 0 0 0]]\n",
            "[[5 5 5 5 8 8]\n",
            " [5 5 5 5 8 8]\n",
            " [5 5 1 1 8 8]\n",
            " [5 5 2 2 8 8]\n",
            " [5 5 8 8 8 8]\n",
            " [5 5 8 8 8 8]]\n",
            "[[0 0 0 0 0]\n",
            " [0 1 1 0 0]\n",
            " [0 2 2 0 0]\n",
            " [0 0 0 0 0]\n",
            " [0 0 0 0 0]]\n",
            "[[5 5 5 8 8]\n",
            " [5 1 1 8 8]\n",
            " [5 2 2 8 8]\n",
            " [5 8 8 8 8]\n",
            " [5 8 8 8 8]]\n"
          ]
        },
        {
          "output_type": "execute_result",
          "data": {
            "text/plain": [
              "'\\n[[5 5 5 8 8]\\n [5 1 1 8 8]\\n [5 2 2 8 8]\\n [5 8 8 8 8]\\n [5 8 8 8 8]]\\n'"
            ],
            "application/vnd.google.colaboratory.intrinsic+json": {
              "type": "string"
            }
          },
          "metadata": {},
          "execution_count": 59
        }
      ]
    },
    {
      "cell_type": "code",
      "source": [
        "print(np.pad(a,2,mode='edge'))\n",
        "'''\n",
        "[[1 1 1 1 1 1]\n",
        " [1 1 1 1 1 1]\n",
        " [1 1 1 1 1 1]\n",
        " [2 2 2 2 2 2]\n",
        " [2 2 2 2 2 2]\n",
        " [2 2 2 2 2 2]]\n",
        "'''\n",
        "print(np.pad(a,2,mode='linear_ramp'))\n",
        "'''\n",
        "[[0 0 0 0 0 0]\n",
        " [0 0 0 0 0 0]\n",
        " [0 0 1 1 0 0]\n",
        " [0 1 2 2 1 0]\n",
        " [0 0 1 1 0 0]\n",
        " [0 0 0 0 0 0]]\n",
        "'''\n",
        "print(np.pad(a,2,mode='maximum'))\n",
        "'''\n",
        "[[2 2 2 2 2 2]\n",
        " [2 2 2 2 2 2]\n",
        " [1 1 1 1 1 1]\n",
        " [2 2 2 2 2 2]\n",
        " [2 2 2 2 2 2]\n",
        " [2 2 2 2 2 2]]\n",
        "'''\n",
        "print(np.pad(a,2,mode='mean'))\n",
        "'''\n",
        "[[2 2 2 2 2 2]\n",
        " [2 2 2 2 2 2]\n",
        " [1 1 1 1 1 1]\n",
        " [2 2 2 2 2 2]\n",
        " [2 2 2 2 2 2]\n",
        " [2 2 2 2 2 2]]\n",
        "'''\n",
        "print(np.pad(a,2,mode='median'))\n",
        "'''\n",
        "[[2 2 2 2 2 2]\n",
        " [2 2 2 2 2 2]\n",
        " [1 1 1 1 1 1]\n",
        " [2 2 2 2 2 2]\n",
        " [2 2 2 2 2 2]\n",
        " [2 2 2 2 2 2]]\n",
        "'''\n",
        "print(np.pad(a,2,mode='minimum'))\n",
        "'''\n",
        "[[1 1 1 1 1 1]\n",
        " [1 1 1 1 1 1]\n",
        " [1 1 1 1 1 1]\n",
        " [2 2 2 2 2 2]\n",
        " [1 1 1 1 1 1]\n",
        " [1 1 1 1 1 1]]\n",
        "'''\n",
        "print(np.pad(a,2,mode='reflect'))\n",
        "'''\n",
        "[[1 1 1 1 1 1]\n",
        " [2 2 2 2 2 2]\n",
        " [1 1 1 1 1 1]\n",
        " [2 2 2 2 2 2]\n",
        " [1 1 1 1 1 1]\n",
        " [2 2 2 2 2 2]]\n",
        "'''\n",
        "print(np.pad(a,2,mode='symmetric'))\n",
        "'''\n",
        "[[2 2 2 2 2 2]\n",
        " [1 1 1 1 1 1]\n",
        " [1 1 1 1 1 1]\n",
        " [2 2 2 2 2 2]\n",
        " [2 2 2 2 2 2]\n",
        " [1 1 1 1 1 1]]\n",
        "'''\n",
        "print(np.pad(a,2,mode='wrap'))\n",
        "'''\n",
        "[[1 1 1 1 1 1]\n",
        " [2 2 2 2 2 2]\n",
        " [1 1 1 1 1 1]\n",
        " [2 2 2 2 2 2]\n",
        " [1 1 1 1 1 1]\n",
        " [2 2 2 2 2 2]]\n",
        "'''"
      ],
      "metadata": {
        "colab": {
          "base_uri": "https://localhost:8080/",
          "height": 1000
        },
        "id": "YiH8GWSKHhQi",
        "outputId": "950b8329-f11e-4947-9e17-fd5ee695437d"
      },
      "execution_count": 60,
      "outputs": [
        {
          "output_type": "stream",
          "name": "stdout",
          "text": [
            "[[1 1 1 1 1 1]\n",
            " [1 1 1 1 1 1]\n",
            " [1 1 1 1 1 1]\n",
            " [2 2 2 2 2 2]\n",
            " [2 2 2 2 2 2]\n",
            " [2 2 2 2 2 2]]\n",
            "[[0 0 0 0 0 0]\n",
            " [0 0 0 0 0 0]\n",
            " [0 0 1 1 0 0]\n",
            " [0 1 2 2 1 0]\n",
            " [0 0 1 1 0 0]\n",
            " [0 0 0 0 0 0]]\n",
            "[[2 2 2 2 2 2]\n",
            " [2 2 2 2 2 2]\n",
            " [1 1 1 1 1 1]\n",
            " [2 2 2 2 2 2]\n",
            " [2 2 2 2 2 2]\n",
            " [2 2 2 2 2 2]]\n",
            "[[2 2 2 2 2 2]\n",
            " [2 2 2 2 2 2]\n",
            " [1 1 1 1 1 1]\n",
            " [2 2 2 2 2 2]\n",
            " [2 2 2 2 2 2]\n",
            " [2 2 2 2 2 2]]\n",
            "[[2 2 2 2 2 2]\n",
            " [2 2 2 2 2 2]\n",
            " [1 1 1 1 1 1]\n",
            " [2 2 2 2 2 2]\n",
            " [2 2 2 2 2 2]\n",
            " [2 2 2 2 2 2]]\n",
            "[[1 1 1 1 1 1]\n",
            " [1 1 1 1 1 1]\n",
            " [1 1 1 1 1 1]\n",
            " [2 2 2 2 2 2]\n",
            " [1 1 1 1 1 1]\n",
            " [1 1 1 1 1 1]]\n",
            "[[1 1 1 1 1 1]\n",
            " [2 2 2 2 2 2]\n",
            " [1 1 1 1 1 1]\n",
            " [2 2 2 2 2 2]\n",
            " [1 1 1 1 1 1]\n",
            " [2 2 2 2 2 2]]\n",
            "[[2 2 2 2 2 2]\n",
            " [1 1 1 1 1 1]\n",
            " [1 1 1 1 1 1]\n",
            " [2 2 2 2 2 2]\n",
            " [2 2 2 2 2 2]\n",
            " [1 1 1 1 1 1]]\n",
            "[[1 1 1 1 1 1]\n",
            " [2 2 2 2 2 2]\n",
            " [1 1 1 1 1 1]\n",
            " [2 2 2 2 2 2]\n",
            " [1 1 1 1 1 1]\n",
            " [2 2 2 2 2 2]]\n"
          ]
        },
        {
          "output_type": "execute_result",
          "data": {
            "text/plain": [
              "'\\n[[1 1 1 1 1 1]\\n [2 2 2 2 2 2]\\n [1 1 1 1 1 1]\\n [2 2 2 2 2 2]\\n [1 1 1 1 1 1]\\n [2 2 2 2 2 2]]\\n'"
            ],
            "application/vnd.google.colaboratory.intrinsic+json": {
              "type": "string"
            }
          },
          "metadata": {},
          "execution_count": 60
        }
      ]
    },
    {
      "cell_type": "code",
      "source": [
        "import numpy as np\n",
        "\n",
        "a = np.array([1,2,3,4,5,6])\n",
        "b = np.array_split(a, 3)\n",
        "c = np.split(a, 3)\n",
        "print(b)  # [array([1, 2]), array([3, 4]), array([5, 6])]\n",
        "print(c)  # [array([1, 2]), array([3, 4]), array([5, 6])]"
      ],
      "metadata": {
        "colab": {
          "base_uri": "https://localhost:8080/"
        },
        "id": "5T_IOlLZHhX7",
        "outputId": "649d26aa-3243-420f-ac21-3ab6525f03d5"
      },
      "execution_count": 61,
      "outputs": [
        {
          "output_type": "stream",
          "name": "stdout",
          "text": [
            "[array([1, 2]), array([3, 4]), array([5, 6])]\n",
            "[array([1, 2]), array([3, 4]), array([5, 6])]\n"
          ]
        }
      ]
    },
    {
      "cell_type": "code",
      "source": [
        "import numpy as np\n",
        "\n",
        "a = np.array([[1,2],[3,4],[5,6]])\n",
        "b = np.array_split(a, 2)\n",
        "c = np.array_split(a, 2, 1)\n",
        "\n",
        "print(b)  # [array([[1, 2],[3, 4]]), array([[5, 6]])]\n",
        "print(c)  # [array([[1],[3],[5]]), array([[2],[4],[6]])]"
      ],
      "metadata": {
        "colab": {
          "base_uri": "https://localhost:8080/"
        },
        "id": "roD2hhIYHhcE",
        "outputId": "ecdac162-685f-4cf2-fa46-57dd2760a109"
      },
      "execution_count": 62,
      "outputs": [
        {
          "output_type": "stream",
          "name": "stdout",
          "text": [
            "[array([[1, 2],\n",
            "       [3, 4]]), array([[5, 6]])]\n",
            "[array([[1],\n",
            "       [3],\n",
            "       [5]]), array([[2],\n",
            "       [4],\n",
            "       [6]])]\n"
          ]
        }
      ]
    },
    {
      "cell_type": "code",
      "source": [
        "import numpy as np\n",
        "\n",
        "a = np.array([[1,1,1],[2,2,2],[3,3,3]])\n",
        "b = np.vsplit(a, 3)\n",
        "print(b)   # [array([[1, 1, 1]]), array([[2, 2, 2]]), array([[3, 3, 3]])]"
      ],
      "metadata": {
        "colab": {
          "base_uri": "https://localhost:8080/"
        },
        "id": "BYnqd_oeH2iL",
        "outputId": "084851a7-e738-49df-e96b-1f2374f3aca8"
      },
      "execution_count": 64,
      "outputs": [
        {
          "output_type": "stream",
          "name": "stdout",
          "text": [
            "[array([[1, 1, 1]]), array([[2, 2, 2]]), array([[3, 3, 3]])]\n"
          ]
        }
      ]
    },
    {
      "cell_type": "code",
      "source": [
        "import numpy as np\n",
        "\n",
        "a = np.array([[1,1,1],[2,2,2],[3,3,3]])\n",
        "b = np.hsplit(a, 3)\n",
        "print(b)  # [array([[1],[2],[3]]), array([[1],[2],[3]]), array([[1],[2],[3]])]"
      ],
      "metadata": {
        "colab": {
          "base_uri": "https://localhost:8080/"
        },
        "id": "QPE_57Q9Hhhr",
        "outputId": "25bf52c9-e273-4061-e455-dba9645cd74a"
      },
      "execution_count": 63,
      "outputs": [
        {
          "output_type": "stream",
          "name": "stdout",
          "text": [
            "[array([[1],\n",
            "       [2],\n",
            "       [3]]), array([[1],\n",
            "       [2],\n",
            "       [3]]), array([[1],\n",
            "       [2],\n",
            "       [3]])]\n"
          ]
        }
      ]
    },
    {
      "cell_type": "code",
      "source": [
        "import numpy as np\n",
        "\n",
        "a = np.array([1])\n",
        "b = np.array([2,2])\n",
        "c = np.array([3,3,3])\n",
        "d = np.concatenate((a, b, c))\n",
        "print(d)   # [1 2 2 3 3 3]"
      ],
      "metadata": {
        "colab": {
          "base_uri": "https://localhost:8080/"
        },
        "id": "j0IZkhMeH7Zr",
        "outputId": "f4a22166-73b2-4556-e49b-157a31059ab1"
      },
      "execution_count": 65,
      "outputs": [
        {
          "output_type": "stream",
          "name": "stdout",
          "text": [
            "[1 2 2 3 3 3]\n"
          ]
        }
      ]
    },
    {
      "cell_type": "code",
      "source": [
        "import numpy as np\n",
        "\n",
        "a = np.array([[1,1],[2,2],[3,3]])\n",
        "b = np.array([[4,4],[5,5]])\n",
        "c = np.concatenate((a, b))\n",
        "print(c)\n",
        "'''\n",
        "[[1 1]\n",
        " [2 2]\n",
        " [3 3]\n",
        " [4 4]\n",
        " [5 5]\n",
        " [6 6]]\n",
        "'''"
      ],
      "metadata": {
        "colab": {
          "base_uri": "https://localhost:8080/",
          "height": 127
        },
        "id": "qiWqnFkjH-Gr",
        "outputId": "b9341163-c180-40d8-8f80-db61c4a47dcd"
      },
      "execution_count": 66,
      "outputs": [
        {
          "output_type": "stream",
          "name": "stdout",
          "text": [
            "[[1 1]\n",
            " [2 2]\n",
            " [3 3]\n",
            " [4 4]\n",
            " [5 5]]\n"
          ]
        },
        {
          "output_type": "execute_result",
          "data": {
            "text/plain": [
              "'\\n[[1 1]\\n [2 2]\\n [3 3]\\n [4 4]\\n [5 5]\\n [6 6]]\\n'"
            ],
            "application/vnd.google.colaboratory.intrinsic+json": {
              "type": "string"
            }
          },
          "metadata": {},
          "execution_count": 66
        }
      ]
    },
    {
      "cell_type": "code",
      "source": [
        "import numpy as np\n",
        "\n",
        "a = np.array([[1,1],[2,2],[3,3]])      # 3x2 陣列\n",
        "b = np.array([[4,4],[5,5],[6,6]])      # 3x2 陣列\n",
        "# b = np.array([[4,4],[5,5],[6,6,6]])  # 如果 b 的形狀和 a 不同，會發生錯誤\n",
        "c = np.concatenate((a, b), axis=0)     # axis 設定為 0\n",
        "print(c)                               # 連接變成 6x2 陣列\n",
        "'''\n",
        "[[1 1]\n",
        " [2 2]\n",
        " [3 3]\n",
        " [4 4]\n",
        " [5 5]\n",
        " [6 6]]\n",
        "'''\n",
        "d = np.concatenate((a, b), axis=1)     # axis 設定為 1\n",
        "print(d)                               # 連接變成 3x4 陣列\n",
        "'''\n",
        "[[1 1 4 4]\n",
        " [2 2 5 5]\n",
        " [3 3 6 6]]\n",
        "'''"
      ],
      "metadata": {
        "colab": {
          "base_uri": "https://localhost:8080/",
          "height": 200
        },
        "id": "hmlutHjjICoU",
        "outputId": "ef0c47f6-1d37-49b3-cdd4-3b2b2c0641d1"
      },
      "execution_count": 67,
      "outputs": [
        {
          "output_type": "stream",
          "name": "stdout",
          "text": [
            "[[1 1]\n",
            " [2 2]\n",
            " [3 3]\n",
            " [4 4]\n",
            " [5 5]\n",
            " [6 6]]\n",
            "[[1 1 4 4]\n",
            " [2 2 5 5]\n",
            " [3 3 6 6]]\n"
          ]
        },
        {
          "output_type": "execute_result",
          "data": {
            "text/plain": [
              "'\\n[[1 1 4 4]\\n [2 2 5 5]\\n [3 3 6 6]]\\n'"
            ],
            "application/vnd.google.colaboratory.intrinsic+json": {
              "type": "string"
            }
          },
          "metadata": {},
          "execution_count": 67
        }
      ]
    },
    {
      "cell_type": "code",
      "source": [
        "import numpy as np\n",
        "\n",
        "a = np.array([1,1])\n",
        "b = np.array([2,2])\n",
        "c = np.array([3,3])\n",
        "d = np.concatenate((a, b, c))\n",
        "print(d)   # [1 1 2 2 3 3]"
      ],
      "metadata": {
        "colab": {
          "base_uri": "https://localhost:8080/"
        },
        "id": "Fz1L05o1IIKk",
        "outputId": "ef9deea7-b8ad-40a1-fa26-e1e4f45b6d32"
      },
      "execution_count": 68,
      "outputs": [
        {
          "output_type": "stream",
          "name": "stdout",
          "text": [
            "[1 1 2 2 3 3]\n"
          ]
        }
      ]
    },
    {
      "cell_type": "code",
      "source": [
        "import numpy as np\n",
        "\n",
        "a = np.array([[1,1],[2,2],[3,3]])  # 3x2 的陣列\n",
        "b = np.array([[4,4],[5,5],[6,6]])  # 3x2 的陣列\n",
        "c = np.stack((a, b), axis=0)       # axis 設定為 0\n",
        "print(c)                           # 堆積成為 2x3x2 的陣列\n",
        "'''\n",
        "[[[1 1]\n",
        "  [2 2]\n",
        "  [3 3]]\n",
        " [[4 4]\n",
        "  [5 5]\n",
        "  [6 6]]]\n",
        "'''\n",
        "d = np.stack((a, b), axis=1)       # axis 設定為 0\n",
        "print(d)                           # 堆積成為 3x2x2 的陣列\n",
        "'''\n",
        "[[[1 1]\n",
        "  [4 4]]\n",
        " [[2 2]\n",
        "  [5 5]]\n",
        " [[3 3]\n",
        "  [6 6]]]\n",
        "'''"
      ],
      "metadata": {
        "colab": {
          "base_uri": "https://localhost:8080/",
          "height": 310
        },
        "id": "F9essiRIILOM",
        "outputId": "7dd09d73-b326-46a3-ea71-a0f73d6bc887"
      },
      "execution_count": 69,
      "outputs": [
        {
          "output_type": "stream",
          "name": "stdout",
          "text": [
            "[[[1 1]\n",
            "  [2 2]\n",
            "  [3 3]]\n",
            "\n",
            " [[4 4]\n",
            "  [5 5]\n",
            "  [6 6]]]\n",
            "[[[1 1]\n",
            "  [4 4]]\n",
            "\n",
            " [[2 2]\n",
            "  [5 5]]\n",
            "\n",
            " [[3 3]\n",
            "  [6 6]]]\n"
          ]
        },
        {
          "output_type": "execute_result",
          "data": {
            "text/plain": [
              "'\\n[[[1 1]\\n  [4 4]]\\n [[2 2]\\n  [5 5]]\\n [[3 3]\\n  [6 6]]]\\n'"
            ],
            "application/vnd.google.colaboratory.intrinsic+json": {
              "type": "string"
            }
          },
          "metadata": {},
          "execution_count": 69
        }
      ]
    },
    {
      "cell_type": "code",
      "source": [
        "a = np.array([[1,1],[2,2],[3,3]])   # 3x2 陣列\n",
        "b = np.array([[4,4],[5,5],[6,6]])   # 3x2 陣列\n",
        "c = np.hstack((a, b))               # 水平合併\n",
        "print(c)                            # 變成 3x4 的陣列\n",
        "'''\n",
        "[[1 1 4 4]\n",
        " [2 2 5 5]\n",
        " [3 3 6 6]]\n",
        "'''\n",
        "d = np.vstack((a, b))               # 垂直合併\n",
        "print(d)                            # 變成 6x2 的陣列\n",
        "'''\n",
        "[[1 1]\n",
        " [2 2]\n",
        " [3 3]\n",
        " [4 4]\n",
        " [5 5]\n",
        " [6 6]]\n",
        "'''"
      ],
      "metadata": {
        "colab": {
          "base_uri": "https://localhost:8080/",
          "height": 200
        },
        "id": "rMT7duD-IOB8",
        "outputId": "5daa76e6-61a5-44c7-df47-e17ff3b49d02"
      },
      "execution_count": 70,
      "outputs": [
        {
          "output_type": "stream",
          "name": "stdout",
          "text": [
            "[[1 1 4 4]\n",
            " [2 2 5 5]\n",
            " [3 3 6 6]]\n",
            "[[1 1]\n",
            " [2 2]\n",
            " [3 3]\n",
            " [4 4]\n",
            " [5 5]\n",
            " [6 6]]\n"
          ]
        },
        {
          "output_type": "execute_result",
          "data": {
            "text/plain": [
              "'\\n[[1 1]\\n [2 2]\\n [3 3]\\n [4 4]\\n [5 5]\\n [6 6]]\\n'"
            ],
            "application/vnd.google.colaboratory.intrinsic+json": {
              "type": "string"
            }
          },
          "metadata": {},
          "execution_count": 70
        }
      ]
    },
    {
      "cell_type": "code",
      "source": [
        "a = np.array([5,3,4,2,1,6,7,9,8])\n",
        "b = np.sort(a)\n",
        "print(b)    # [1 2 3 4 5 6 7 8 9]"
      ],
      "metadata": {
        "colab": {
          "base_uri": "https://localhost:8080/"
        },
        "id": "-2ahaayoISbb",
        "outputId": "548ccfb9-eddd-4f29-8a2d-c3ec230c86cb"
      },
      "execution_count": 71,
      "outputs": [
        {
          "output_type": "stream",
          "name": "stdout",
          "text": [
            "[1 2 3 4 5 6 7 8 9]\n"
          ]
        }
      ]
    },
    {
      "cell_type": "code",
      "source": [
        "import numpy as np\n",
        "\n",
        "arr = [\n",
        "  [2,3],\n",
        "  [5,2],\n",
        "  [3,1]\n",
        "]\n",
        "a = np.array(arr)\n",
        "b = np.sort(a)   # 針對最後一軸排序 ( -1，二維陣列就是 1 )，所以只會排列 2 和 3、5 和 2、3 和 1\n",
        "print(b)\n",
        "'''\n",
        "[[2 3]\n",
        " [2 5]\n",
        " [1 3]]\n",
        "'''\n",
        "c = np.sort(a, axis=None)   # axis 設定 None 會打散並排序為一維陣列\n",
        "print(c)                    # [1 2 2 3 3 5]\n",
        "d = np.sort(a,axis=0)       # 針對垂直維度 ( 0 軸 ) 由小到大排序，所有項目都是從小到大\n",
        "print(d)\n",
        "'''\n",
        "[[2 1]\n",
        " [3 2]\n",
        " [5 3]]\n",
        "'''\n",
        "e = np.sort(a,axis=1)       # 因為是二維陣列，axis 設定 1 等同 np.sort(a)\n",
        "print(e)\n",
        "'''\n",
        "[[2 3]\n",
        " [2 5]\n",
        " [1 3]]\n",
        "'''"
      ],
      "metadata": {
        "colab": {
          "base_uri": "https://localhost:8080/",
          "height": 218
        },
        "id": "6nqz21oUITss",
        "outputId": "8b82557c-395e-4172-f484-de882db2d87a"
      },
      "execution_count": 73,
      "outputs": [
        {
          "output_type": "stream",
          "name": "stdout",
          "text": [
            "[[2 3]\n",
            " [2 5]\n",
            " [1 3]]\n",
            "[1 2 2 3 3 5]\n",
            "[[2 1]\n",
            " [3 2]\n",
            " [5 3]]\n",
            "[[2 3]\n",
            " [2 5]\n",
            " [1 3]]\n"
          ]
        },
        {
          "output_type": "execute_result",
          "data": {
            "text/plain": [
              "'\\n[[2 3]\\n [2 5]\\n [1 3]]\\n'"
            ],
            "application/vnd.google.colaboratory.intrinsic+json": {
              "type": "string"
            }
          },
          "metadata": {},
          "execution_count": 73
        }
      ]
    },
    {
      "cell_type": "code",
      "source": [
        "import numpy as np\n",
        "\n",
        "arr = [\n",
        "  ('oxxo',200),\n",
        "  ('gkpen',100),\n",
        "  ('frank',300)\n",
        "]\n",
        "dt = np.dtype([('name','S10'),('num',int)])\n",
        "a = np.array(arr, dtype = dt)\n",
        "b = np.sort(a,order='name')    # 針對 name 欄位排序\n",
        "c = np.sort(a,order='num')     # 針對 um 欄位排序\n",
        "print(b)      # [(b'frank', 300) (b'gkpen', 100) (b'oxxo', 200)]\n",
        "print(c)      # [(b'gkpen', 100) (b'oxxo', 200) (b'frank', 300)]"
      ],
      "metadata": {
        "colab": {
          "base_uri": "https://localhost:8080/"
        },
        "id": "fa8Qq8S4Ia0U",
        "outputId": "0dd50912-20c3-4864-e8a7-2d6048a790e4"
      },
      "execution_count": 74,
      "outputs": [
        {
          "output_type": "stream",
          "name": "stdout",
          "text": [
            "[(b'frank', 300) (b'gkpen', 100) (b'oxxo', 200)]\n",
            "[(b'gkpen', 100) (b'oxxo', 200) (b'frank', 300)]\n"
          ]
        }
      ]
    },
    {
      "cell_type": "code",
      "source": [
        "import numpy as np\n",
        "\n",
        "arr = [\n",
        "  [2,3,7],\n",
        "  [5,2,6],\n",
        "  [3,1,2]\n",
        "]\n",
        "a = np.array(arr)\n",
        "b = np.argsort(a)\n",
        "print(b)\n",
        "'''\n",
        "[[0 1 2]       # 對應 2,3,7\n",
        " [1 0 2]       # 對應 2,5,6\n",
        " [1 2 0]]      # 對應 1,2,3\n",
        "'''"
      ],
      "metadata": {
        "colab": {
          "base_uri": "https://localhost:8080/",
          "height": 90
        },
        "id": "kxvgJya6IlLQ",
        "outputId": "7d804a97-a14a-4f67-d1ea-39cc6391e35c"
      },
      "execution_count": 75,
      "outputs": [
        {
          "output_type": "stream",
          "name": "stdout",
          "text": [
            "[[0 1 2]\n",
            " [1 0 2]\n",
            " [1 2 0]]\n"
          ]
        },
        {
          "output_type": "execute_result",
          "data": {
            "text/plain": [
              "'\\n[[0 1 2]       # 對應 2,3,7\\n [1 0 2]       # 對應 2,5,6\\n [1 2 0]]      # 對應 1,2,3\\n'"
            ],
            "application/vnd.google.colaboratory.intrinsic+json": {
              "type": "string"
            }
          },
          "metadata": {},
          "execution_count": 75
        }
      ]
    },
    {
      "cell_type": "code",
      "source": [
        "import numpy as np\n",
        "\n",
        "a = np.array([1,2,3,4,5,6,7,8])\n",
        "b = np.array(['e','d','a','c','g','h','f','b'])\n",
        "c = np.lexsort((a,b))    # b 先排序，然後 a 按照 b 的順序排序後回傳索引值\n",
        "d = np.lexsort((b,a))    # a 先排序，然後 b 按照 a 的順序排序後回傳索引值\n",
        "print(c)    # [2 7 3 1 0 6 4 5]   對應 3 8 4 2 1 7 5 6\n",
        "print(d)    # [0 1 2 3 4 5 6 7]"
      ],
      "metadata": {
        "colab": {
          "base_uri": "https://localhost:8080/"
        },
        "id": "giTczGwWIqYM",
        "outputId": "9b57f73e-2c18-4f3a-fea2-95b70eda0d00"
      },
      "execution_count": 76,
      "outputs": [
        {
          "output_type": "stream",
          "name": "stdout",
          "text": [
            "[2 7 3 1 0 6 4 5]\n",
            "[0 1 2 3 4 5 6 7]\n"
          ]
        }
      ]
    },
    {
      "cell_type": "code",
      "source": [
        "import numpy as np\n",
        "\n",
        "a = np.array([1,2,3,4,5,6,7,8])\n",
        "b = np.argmax(a)\n",
        "c = np.argmin(a)\n",
        "print(b)    # 7   對應 8\n",
        "print(c)    # 0   對應 1"
      ],
      "metadata": {
        "colab": {
          "base_uri": "https://localhost:8080/"
        },
        "id": "4EsTef_BJBrD",
        "outputId": "7e8fe4ae-fd43-471d-ec93-7d747143b899"
      },
      "execution_count": 77,
      "outputs": [
        {
          "output_type": "stream",
          "name": "stdout",
          "text": [
            "7\n",
            "0\n"
          ]
        }
      ]
    },
    {
      "cell_type": "code",
      "source": [
        "import numpy as np\n",
        "\n",
        "a = np.array([1,2,3,4])   # 1x4 陣列\n",
        "b = 2                     # 廣播單一數字 2\n",
        "print(a+b)                # [3 4 5 6]\n",
        "print(a-b)                # [-1  0  1  2]\n",
        "print(a*b)                # [2 4 6 8]\n",
        "print(a%b)                # [1 0 1 0]\n",
        "\n",
        "c = np.array([[1,2,3],[4,5,6]])  # 2x3 陣列\n",
        "print(c+b)    # [[3 4 5] [6 7 8]]\n",
        "print(c-b)    # [[-1  0  1] [ 2  3  4]]\n",
        "print(c*b)    # [[ 2  4  6] [ 8 10 12]]\n",
        "print(c%b)    # [[1 0 1] [0 1 0]]"
      ],
      "metadata": {
        "colab": {
          "base_uri": "https://localhost:8080/"
        },
        "id": "eLhFZglCJKtE",
        "outputId": "a47fa6c3-d596-4abb-dc71-658ec4b45e86"
      },
      "execution_count": 78,
      "outputs": [
        {
          "output_type": "stream",
          "name": "stdout",
          "text": [
            "[3 4 5 6]\n",
            "[-1  0  1  2]\n",
            "[2 4 6 8]\n",
            "[1 0 1 0]\n",
            "[[3 4 5]\n",
            " [6 7 8]]\n",
            "[[-1  0  1]\n",
            " [ 2  3  4]]\n",
            "[[ 2  4  6]\n",
            " [ 8 10 12]]\n",
            "[[1 0 1]\n",
            " [0 1 0]]\n"
          ]
        }
      ]
    },
    {
      "cell_type": "code",
      "source": [
        "import numpy as np\n",
        "\n",
        "a = np.array([[1,1,1],[2,2,2]])   # 2x3 陣列\n",
        "b = np.array([1,2,3])             # 1x3 陣列\n",
        "print(a+b)     # [[2 3 4] [3 4 5]]\n",
        "print(a-b)     # [[ 0 -1 -2] [ 1  0 -1]]\n",
        "print(a*b)     # [[1 2 3] [2 4 6]]\n",
        "print(a%b)     # [[0 1 1] [0 0 2]]\n",
        "\n",
        "c = np.array([[1,1,1],[2,2,2],[3,3,3]])   # 3x3 陣列\n",
        "d = np.array([[1],[2],[3]])               # 3x1 陣列\n",
        "print(c+d)     # [[2 2 2] [4 4 4] [6 6 6]]\n",
        "print(c-d)     # [[0 0 0] [0 0 0] [0 0 0]]\n",
        "print(c*d)     # [[1 1 1] [4 4 4] [9 9 9]]\n",
        "print(c%d)     # [[0 0 0] [0 0 0] [0 0 0]]"
      ],
      "metadata": {
        "colab": {
          "base_uri": "https://localhost:8080/"
        },
        "id": "y1XuaWNXJZcU",
        "outputId": "c16b5573-ff9f-4f24-afb0-72fe64473660"
      },
      "execution_count": 79,
      "outputs": [
        {
          "output_type": "stream",
          "name": "stdout",
          "text": [
            "[[2 3 4]\n",
            " [3 4 5]]\n",
            "[[ 0 -1 -2]\n",
            " [ 1  0 -1]]\n",
            "[[1 2 3]\n",
            " [2 4 6]]\n",
            "[[0 1 1]\n",
            " [0 0 2]]\n",
            "[[2 2 2]\n",
            " [4 4 4]\n",
            " [6 6 6]]\n",
            "[[0 0 0]\n",
            " [0 0 0]\n",
            " [0 0 0]]\n",
            "[[1 1 1]\n",
            " [4 4 4]\n",
            " [9 9 9]]\n",
            "[[0 0 0]\n",
            " [0 0 0]\n",
            " [0 0 0]]\n"
          ]
        }
      ]
    },
    {
      "cell_type": "code",
      "source": [
        "import numpy as np\n",
        "a = np.array([[1,1,1],[2,2,2]])   # 2x3 陣列\n",
        "b = np.array([[3,3,3],[4,4,4]])   # 2x3 陣列\n",
        "print(a+b)     # [[4 4 4] [6 6 6]]\n",
        "print(a-b)     # [[-2 -2 -2] [-2 -2 -2]]\n",
        "print(a*b)     # [[3 3 3] [8 8 8]]\n",
        "print(a%b)     # [[1 1 1] [2 2 2]]"
      ],
      "metadata": {
        "colab": {
          "base_uri": "https://localhost:8080/"
        },
        "id": "5datDFgMJcvs",
        "outputId": "795f1fa9-7eaa-43fd-99e3-a4f3de1af618"
      },
      "execution_count": 80,
      "outputs": [
        {
          "output_type": "stream",
          "name": "stdout",
          "text": [
            "[[4 4 4]\n",
            " [6 6 6]]\n",
            "[[-2 -2 -2]\n",
            " [-2 -2 -2]]\n",
            "[[3 3 3]\n",
            " [8 8 8]]\n",
            "[[1 1 1]\n",
            " [2 2 2]]\n"
          ]
        }
      ]
    },
    {
      "cell_type": "code",
      "source": [
        "import numpy as np\n",
        "\n",
        "a = np.array(['a','b','c','d','a','b','c'])\n",
        "b = np.where(a=='b')\n",
        "print(b)    # (array([1, 5]),)   b 位在 1 和 5 的位置"
      ],
      "metadata": {
        "colab": {
          "base_uri": "https://localhost:8080/"
        },
        "id": "jN1DmAEdJhht",
        "outputId": "04527400-6242-49b1-a161-fb5862ea0256"
      },
      "execution_count": 81,
      "outputs": [
        {
          "output_type": "stream",
          "name": "stdout",
          "text": [
            "(array([1, 5]),)\n"
          ]
        }
      ]
    },
    {
      "cell_type": "code",
      "source": [
        "import numpy as np\n",
        "\n",
        "a = np.array([[1,2,3,4],[5,6,7,8]])\n",
        "b = np.where(a>3)\n",
        "print(b)    # (array([0, 1, 1, 1, 1]), array([3, 0, 1, 2, 3]))\n",
        "            # 對應 (0,3) -> 4\n",
        "            # 對應 (1,0) -> 5\n",
        "            # 對應 (1,1) -> 6\n",
        "            # 對應 (1,2) -> 7\n",
        "            # 對應 (1,3) -> 8"
      ],
      "metadata": {
        "colab": {
          "base_uri": "https://localhost:8080/"
        },
        "id": "v_o2k_-oJkKO",
        "outputId": "8b217c6e-99fe-45fd-d777-53add3ad6f9a"
      },
      "execution_count": 82,
      "outputs": [
        {
          "output_type": "stream",
          "name": "stdout",
          "text": [
            "(array([0, 1, 1, 1, 1]), array([3, 0, 1, 2, 3]))\n"
          ]
        }
      ]
    },
    {
      "cell_type": "code",
      "source": [
        "import numpy as np\n",
        "\n",
        "a = np.array([[1,2,3,4],[5,6,7,8]])\n",
        "b = np.array([['a','a','a','a'],['b','b','b','b']])\n",
        "c = np.where(a>3,b,0)\n",
        "print(c)\n",
        "'''\n",
        "[['0' '0' '0' 'a']\n",
        " ['b' 'b' 'b' 'b']]\n",
        "'''"
      ],
      "metadata": {
        "colab": {
          "base_uri": "https://localhost:8080/",
          "height": 72
        },
        "id": "62mObwv4JmPc",
        "outputId": "2d81a2e1-ae37-4acb-b9e0-4b853035c217"
      },
      "execution_count": 83,
      "outputs": [
        {
          "output_type": "stream",
          "name": "stdout",
          "text": [
            "[['0' '0' '0' 'a']\n",
            " ['b' 'b' 'b' 'b']]\n"
          ]
        },
        {
          "output_type": "execute_result",
          "data": {
            "text/plain": [
              "\"\\n[['0' '0' '0' 'a']\\n ['b' 'b' 'b' 'b']]\\n\""
            ],
            "application/vnd.google.colaboratory.intrinsic+json": {
              "type": "string"
            }
          },
          "metadata": {},
          "execution_count": 83
        }
      ]
    },
    {
      "cell_type": "code",
      "source": [
        "import numpy as np\n",
        "\n",
        "a = np.array([1,0,1,0,1,0,1,0])\n",
        "b = np.array(['a','b','c','d','e','f','g','h'])\n",
        "c = np.extract(a,b)      # 預設 1 為 True，0 為 False\n",
        "print(c)                 # ['a' 'c' 'e' 'g']\n",
        "d = np.extract(a==0,b)   # 加入判斷條件，0 變成 True\n",
        "print(d)               # ['b' 'd' 'f' 'h']"
      ],
      "metadata": {
        "colab": {
          "base_uri": "https://localhost:8080/"
        },
        "id": "G0n21gPlJxks",
        "outputId": "e7ea43ad-df9a-4e4b-ce15-16224f54d6a3"
      },
      "execution_count": 88,
      "outputs": [
        {
          "output_type": "stream",
          "name": "stdout",
          "text": [
            "['a' 'c' 'e' 'g']\n",
            "['b' 'd' 'f' 'h']\n"
          ]
        }
      ]
    },
    {
      "cell_type": "code",
      "source": [
        "import numpy as np\n",
        "\n",
        "a = np.array([1,0,1,0,1,0,1,0])\n",
        "b = np.nonzero(a)\n",
        "print(b)    # array([0, 2, 4, 6]),)"
      ],
      "metadata": {
        "colab": {
          "base_uri": "https://localhost:8080/"
        },
        "id": "_RWezOq5JoP8",
        "outputId": "e392d0d4-fde5-492a-8389-7fb6eb3a2310"
      },
      "execution_count": 84,
      "outputs": [
        {
          "output_type": "stream",
          "name": "stdout",
          "text": [
            "(array([0, 2, 4, 6]),)\n"
          ]
        }
      ]
    },
    {
      "cell_type": "code",
      "source": [
        "import numpy as np\n",
        "\n",
        "a = np.array([[1,0,1,0],[1,0,1,0]])\n",
        "b = np.nonzero(a)\n",
        "print(b)     # (array([0, 0, 1, 1]), array([0, 2, 0, 2]))\n",
        "             # 對應 (0, 0) (0, 2) (1, 0) (1, 2)"
      ],
      "metadata": {
        "colab": {
          "base_uri": "https://localhost:8080/"
        },
        "id": "8jDxfOVtJryr",
        "outputId": "d5784973-c8e0-40b3-e0ca-2003c4669d25"
      },
      "execution_count": 85,
      "outputs": [
        {
          "output_type": "stream",
          "name": "stdout",
          "text": [
            "(array([0, 0, 1, 1]), array([0, 2, 0, 2]))\n"
          ]
        }
      ]
    },
    {
      "cell_type": "code",
      "source": [
        "import numpy as np\n",
        "\n",
        "a = np.array([1,0,1,0,1,0,1,0])\n",
        "b = np.count_nonzero(a)\n",
        "print(b)   # 4"
      ],
      "metadata": {
        "colab": {
          "base_uri": "https://localhost:8080/"
        },
        "id": "dESh_0gjJuSk",
        "outputId": "b9bbb3ff-ff58-420d-a4fd-2bcfc4b9a9cf"
      },
      "execution_count": 86,
      "outputs": [
        {
          "output_type": "stream",
          "name": "stdout",
          "text": [
            "4\n"
          ]
        }
      ]
    },
    {
      "cell_type": "code",
      "source": [
        "import numpy as np\n",
        "\n",
        "a = np.array([1,1,1])\n",
        "b = np.array([2,2,2])\n",
        "c = np.add(a,b)\n",
        "print(c)   # [3 3 3]\n",
        "\n",
        "x = np.array([[1,1],[1,1]])\n",
        "y = np.array([[2,2],[3,3]])\n",
        "z = np.add(x,y)\n",
        "print(z)   # [[3 3] [4 4]]"
      ],
      "metadata": {
        "colab": {
          "base_uri": "https://localhost:8080/"
        },
        "id": "owBkaZfvJ49r",
        "outputId": "a6965266-48cb-4273-bc7c-9ae74fe97a1f"
      },
      "execution_count": 89,
      "outputs": [
        {
          "output_type": "stream",
          "name": "stdout",
          "text": [
            "[3 3 3]\n",
            "[[3 3]\n",
            " [4 4]]\n"
          ]
        }
      ]
    },
    {
      "cell_type": "code",
      "source": [
        "import numpy as np\n",
        "\n",
        "a = np.array([1,1,1])\n",
        "b = np.array([2,2,2])\n",
        "c = np.subtract(a,b)\n",
        "print(c)    # [-1 -1 -1]\n",
        "\n",
        "x = np.array([[1,1],[1,1]])\n",
        "y = np.array([[2,2],[3,3]])\n",
        "z = np.subtract(x,y)\n",
        "print(z)    # [[-1 -1] [-2 -2]]"
      ],
      "metadata": {
        "colab": {
          "base_uri": "https://localhost:8080/"
        },
        "id": "a9UqyOOUJ6Ul",
        "outputId": "152502b3-7ef0-4483-a5f0-94937f85fb11"
      },
      "execution_count": 90,
      "outputs": [
        {
          "output_type": "stream",
          "name": "stdout",
          "text": [
            "[-1 -1 -1]\n",
            "[[-1 -1]\n",
            " [-2 -2]]\n"
          ]
        }
      ]
    },
    {
      "cell_type": "code",
      "source": [
        "import numpy as np\n",
        "\n",
        "a = np.array([1,2,3])\n",
        "b = np.array([2,2,2])\n",
        "c = np.multiply(a,b)\n",
        "print(c)      # [2 4 6]\n",
        "\n",
        "x = np.array([[2,3],[2,3]])\n",
        "y = np.array([[2,2],[3,3]])\n",
        "z = np.multiply(x,y)\n",
        "print(z)      # [[4 6] [6 9]]"
      ],
      "metadata": {
        "colab": {
          "base_uri": "https://localhost:8080/"
        },
        "id": "h5RzVDewJ9cM",
        "outputId": "cb2fa625-845d-4cf1-8b52-726d456beb62"
      },
      "execution_count": 91,
      "outputs": [
        {
          "output_type": "stream",
          "name": "stdout",
          "text": [
            "[2 4 6]\n",
            "[[4 6]\n",
            " [6 9]]\n"
          ]
        }
      ]
    },
    {
      "cell_type": "code",
      "source": [
        "import numpy as np\n",
        "\n",
        "a = np.array([5,6,7])\n",
        "b = np.array([2,2,2])\n",
        "c = np.divide(a,b)\n",
        "print(c)       # [2.5 3.  3.5]\n",
        "\n",
        "x = np.array([[5,6],[7,8]])\n",
        "y = np.array([[2,3],[4,5]])\n",
        "z = np.divide(x,y)\n",
        "print(z)       # [[2.5  2.  ] [1.75 1.6 ]]"
      ],
      "metadata": {
        "colab": {
          "base_uri": "https://localhost:8080/"
        },
        "id": "AHQrq8jUJ_jR",
        "outputId": "9e95c70b-31f0-4b36-ff96-965b62504497"
      },
      "execution_count": 92,
      "outputs": [
        {
          "output_type": "stream",
          "name": "stdout",
          "text": [
            "[2.5 3.  3.5]\n",
            "[[2.5  2.  ]\n",
            " [1.75 1.6 ]]\n"
          ]
        }
      ]
    },
    {
      "cell_type": "code",
      "source": [
        "import numpy as np\n",
        "\n",
        "a = np.array([5,6,7])\n",
        "b = np.array([2,2,2])\n",
        "c = np.floor_divide(a,b)    # [2 3 3]"
      ],
      "metadata": {
        "id": "ctz_MTxlKBjc"
      },
      "execution_count": 93,
      "outputs": []
    },
    {
      "cell_type": "code",
      "source": [
        "import numpy as np\n",
        "\n",
        "a = np.array([2,3,4])\n",
        "b = np.array([3,3,3])\n",
        "c = np.power(a,b)\n",
        "print(c)    # [ 8 27 64]"
      ],
      "metadata": {
        "colab": {
          "base_uri": "https://localhost:8080/"
        },
        "id": "5JBTZvdpKDgs",
        "outputId": "2cf1eb53-270d-4f7f-95e0-57c18ef72512"
      },
      "execution_count": 94,
      "outputs": [
        {
          "output_type": "stream",
          "name": "stdout",
          "text": [
            "[ 8 27 64]\n"
          ]
        }
      ]
    },
    {
      "cell_type": "code",
      "source": [
        "import numpy as np\n",
        "\n",
        "a = np.array([2,3,4])\n",
        "b = np.array([3,3,3])\n",
        "c = np.mod(a,b)\n",
        "print(c)    # [2 0 1]"
      ],
      "metadata": {
        "colab": {
          "base_uri": "https://localhost:8080/"
        },
        "id": "gTNSN7--KFA8",
        "outputId": "641a79cd-6c1e-4bed-fb05-6e671fc0af45"
      },
      "execution_count": 95,
      "outputs": [
        {
          "output_type": "stream",
          "name": "stdout",
          "text": [
            "[2 0 1]\n"
          ]
        }
      ]
    },
    {
      "cell_type": "code",
      "source": [
        "import numpy as np\n",
        "\n",
        "a = np.array([2,3,4])\n",
        "b = np.array([3,3,3])\n",
        "c = np.divmod(a,b)\n",
        "print(c)    # (array([0, 1, 1]), array([2, 0, 1]))"
      ],
      "metadata": {
        "colab": {
          "base_uri": "https://localhost:8080/"
        },
        "id": "A_eXqU-MKG2k",
        "outputId": "39c07702-eeff-43f6-ad94-fed4a100b61d"
      },
      "execution_count": 96,
      "outputs": [
        {
          "output_type": "stream",
          "name": "stdout",
          "text": [
            "(array([0, 1, 1]), array([2, 0, 1]))\n"
          ]
        }
      ]
    },
    {
      "cell_type": "code",
      "source": [
        "import numpy as np\n",
        "\n",
        "a = np.array([2., 3., 4., 5., 6.])\n",
        "b = np.reciprocal(a)\n",
        "print(b)    # [0.5        0.33333333 0.25       0.2        0.16666667]"
      ],
      "metadata": {
        "colab": {
          "base_uri": "https://localhost:8080/"
        },
        "id": "m_E4O-SMKIxG",
        "outputId": "8ca33389-b374-49f9-b828-2693ad09aeec"
      },
      "execution_count": 97,
      "outputs": [
        {
          "output_type": "stream",
          "name": "stdout",
          "text": [
            "[0.5        0.33333333 0.25       0.2        0.16666667]\n"
          ]
        }
      ]
    },
    {
      "cell_type": "code",
      "source": [
        "import numpy as np\n",
        "\n",
        "a = np.array([-2,-1,0,1,2])\n",
        "b = np.positive(a)\n",
        "c = np.negative(a)\n",
        "print(b)   # [-2 -1  0  1  2]\n",
        "print(c)   # [ 2  1  0 -1 -2]"
      ],
      "metadata": {
        "colab": {
          "base_uri": "https://localhost:8080/"
        },
        "id": "69RtQqtwKLB9",
        "outputId": "72380b11-8958-4440-945f-7acd1ee7c87f"
      },
      "execution_count": 98,
      "outputs": [
        {
          "output_type": "stream",
          "name": "stdout",
          "text": [
            "[-2 -1  0  1  2]\n",
            "[ 2  1  0 -1 -2]\n"
          ]
        }
      ]
    },
    {
      "cell_type": "code",
      "source": [
        "import numpy as np\n",
        "\n",
        "a = np.array([30,60,90])   # 起始陣列為 30、60、90 度\n",
        "b = np.deg2rad(a)          # 轉換成弧度陣列\n",
        "print(np.sin(b))           # [0.5       0.8660254 1.       ]\n",
        "print(np.cos(b))           # [8.66025404e-01 5.00000000e-01 6.12323400e-17]\n",
        "print(np.tan(b))           # [5.77350269e-01 1.73205081e+00 1.63312394e+16]\n",
        "\n",
        "x = np.array([30,60,90])   # 直角三角形某一邊\n",
        "y = np.array([30,30,30])   # 直角三角形某一邊\n",
        "z = np.hypot(x, y)\n",
        "print(z)                   # [42.42640687 67.08203932 94.86832981]"
      ],
      "metadata": {
        "colab": {
          "base_uri": "https://localhost:8080/"
        },
        "id": "_qINMkJnKQmK",
        "outputId": "4a648136-6e2d-4b13-d25d-c1bf9e164b6d"
      },
      "execution_count": 99,
      "outputs": [
        {
          "output_type": "stream",
          "name": "stdout",
          "text": [
            "[0.5       0.8660254 1.       ]\n",
            "[8.66025404e-01 5.00000000e-01 6.12323400e-17]\n",
            "[5.77350269e-01 1.73205081e+00 1.63312394e+16]\n",
            "[42.42640687 67.08203932 94.86832981]\n"
          ]
        }
      ]
    },
    {
      "cell_type": "code",
      "source": [
        "import numpy as np\n",
        "\n",
        "a = np.array([110.3333, 122.5, 155.4999])\n",
        "print(np.around(a))       # [110. 122. 155.]\n",
        "print(np.around(a, 2))    # [110.33 122.5  155.5 ]\n",
        "print(np.around(a, -1))   # [110. 120. 160.]\n",
        "print(np.around(a, -2))   # [100. 100. 200.]\n",
        "print(np.fix(a))          # [110. 122. 155.]\n",
        "print(np.trunc(a))        # [110. 122. 155.]\n",
        "\n",
        "b = np.array([-1.7, -1.5, -0.2, 0.2, 1.5, 1.7, 2.0])\n",
        "print(np.rint(b))         # [-2. -2. -0.  0.  2.  2.  2.]\n",
        "print(np.floor(b))        # [-2. -2. -1.  0.  1.  1.  2.]\n",
        "print(np.ceil(b))         # [-1. -1. -0.  1.  2.  2.  2.]"
      ],
      "metadata": {
        "colab": {
          "base_uri": "https://localhost:8080/"
        },
        "id": "kdKjzI_iKTRv",
        "outputId": "560b59bb-a228-403d-e4bb-05abe2c081c7"
      },
      "execution_count": 100,
      "outputs": [
        {
          "output_type": "stream",
          "name": "stdout",
          "text": [
            "[110. 122. 155.]\n",
            "[110.33 122.5  155.5 ]\n",
            "[110. 120. 160.]\n",
            "[100. 100. 200.]\n",
            "[110. 122. 155.]\n",
            "[110. 122. 155.]\n",
            "[-2. -2. -0.  0.  2.  2.  2.]\n",
            "[-2. -2. -1.  0.  1.  1.  2.]\n",
            "[-1. -1. -0.  1.  2.  2.  2.]\n"
          ]
        }
      ]
    },
    {
      "cell_type": "code",
      "source": [
        "import numpy as np\n",
        "\n",
        "a = np.array([[1,3,5],[6,7,8]])\n",
        "print(np.prod(a))     # 5040\n",
        "print(np.prod(a,0))   # [ 6 21 40]  --> 1*6、3*7、5*8\n",
        "print(np.prod(a,1))   # [ 15 336]   --> 1*3*5、6*7*8\n",
        "print(np.sum(a))      # 30\n",
        "print(np.sum(a,0))    # [ 7 10 13]  --> 1+6、3+7、5+8\n",
        "print(np.sum(a,1))    # [ 9 21]     --> 1+3+5、6+7+8\n",
        "print(np.cumprod(a))  # [   1    3   15   90  630 5040]\n",
        "print(np.cumsum(a))   # [ 1  4  9 15 22 30]\n",
        "print(np.diff(a))     # [[2 2] [1 1]]\n",
        "print(np.ediff1d(a))  # [2 2 1 1 1]"
      ],
      "metadata": {
        "colab": {
          "base_uri": "https://localhost:8080/"
        },
        "id": "-Py6Yl7sKUK9",
        "outputId": "7f48f6f7-95e6-4810-cae1-575eb0c5e769"
      },
      "execution_count": 101,
      "outputs": [
        {
          "output_type": "stream",
          "name": "stdout",
          "text": [
            "5040\n",
            "[ 6 21 40]\n",
            "[ 15 336]\n",
            "30\n",
            "[ 7 10 13]\n",
            "[ 9 21]\n",
            "[   1    3   15   90  630 5040]\n",
            "[ 1  4  9 15 22 30]\n",
            "[[2 2]\n",
            " [1 1]]\n",
            "[2 2 1 1 1]\n"
          ]
        }
      ]
    },
    {
      "cell_type": "code",
      "source": [
        "import numpy as np\n",
        "\n",
        "a = np.array([1,9,5,4,7])\n",
        "b = np.array([2,6,8,6,3])\n",
        "print(np.maximum(a,b))    # [2 9 8 6 7]\n",
        "print(np.fmax(a,b))       # [2 9 8 6 7]\n",
        "print(np.minimum(a,b))    # [1 6 5 4 3]\n",
        "print(np.fmin(a,b))       # [1 6 5 4 3]\n",
        "\n",
        "c = np.array([[1,9,5,4,7],[2,6,8,6,3]])\n",
        "print(np.amax(c))     # 9\n",
        "print(np.amax(c,0))   # [2 9 8 6 7]\n",
        "print(np.amax(c,1))   # [9 8]\n",
        "print(np.amin(c))     # 1\n",
        "print(np.amin(c,0))   # [1 6 5 4 3]\n",
        "print(np.amin(c,1))   # [1 2]"
      ],
      "metadata": {
        "colab": {
          "base_uri": "https://localhost:8080/"
        },
        "id": "GnJBRQPXKYb8",
        "outputId": "c89e0305-9e01-4955-94c9-db4791154b63"
      },
      "execution_count": 102,
      "outputs": [
        {
          "output_type": "stream",
          "name": "stdout",
          "text": [
            "[2 9 8 6 7]\n",
            "[2 9 8 6 7]\n",
            "[1 6 5 4 3]\n",
            "[1 6 5 4 3]\n",
            "9\n",
            "[2 9 8 6 7]\n",
            "[9 8]\n",
            "1\n",
            "[1 6 5 4 3]\n",
            "[1 2]\n"
          ]
        }
      ]
    },
    {
      "cell_type": "code",
      "source": [
        "import numpy as np\n",
        "\n",
        "a = np.array([15,20,6,8,11])\n",
        "b = np.array([25,50,18,6,33])\n",
        "print(np.lcm(a,b))           # [ 75 100  18  24  33]\n",
        "                             # 最小公倍數\n",
        "print(np.gcd(a,b))           # [ 5 10  6  2 11]\n",
        "                             # 最大公因數\n",
        "\n",
        "c = np.array([8,9,64])\n",
        "print(np.sqrt(c))            # [2.82842712 3.         8.        ]\n",
        "print(np.cbrt(c))            # [2.         2.08008382 4.        ]\n",
        "\n",
        "d = np.array([-2,-1,0,1,2])\n",
        "print(np.fabs(d))            # [2. 1. 0. 1. 2.]\n",
        "print(np.absolute(d))        # [2 1 0 1 2]\n",
        "\n",
        "e = np.array([1,2,3,4,5,6,7,8,9])\n",
        "print(np.clip(e,3,6))        # [3 3 3 4 5 6 6 6 6]\n",
        "                             # 剪裁小於 3 的都變成 3，大於 6 的都變成 6\n",
        "print(np.clip(e,3,1))        # [1 1 1 1 1 1 1 1 1]\n",
        "                             # 因為 max 為 1，剪裁後全部都變成 1"
      ],
      "metadata": {
        "colab": {
          "base_uri": "https://localhost:8080/"
        },
        "id": "88EnBHD5Ka-U",
        "outputId": "67869da4-8e93-4de3-921b-a1c6577b9032"
      },
      "execution_count": 103,
      "outputs": [
        {
          "output_type": "stream",
          "name": "stdout",
          "text": [
            "[ 75 100  18  24  33]\n",
            "[ 5 10  6  2 11]\n",
            "[2.82842712 3.         8.        ]\n",
            "[2.         2.08008382 4.        ]\n",
            "[2. 1. 0. 1. 2.]\n",
            "[2 1 0 1 2]\n",
            "[3 3 3 4 5 6 6 6 6]\n",
            "[1 1 1 1 1 1 1 1 1]\n"
          ]
        }
      ]
    },
    {
      "cell_type": "code",
      "source": [
        "from numpy import random\n",
        "\n",
        "print(random.random())         # 0.4068905682640278\n",
        "print(random.random(3))        # [0.61705999 0.1028753  0.00849189]\n",
        "print(random.random((3,2)))    # 二維陣列\n",
        "'''\n",
        "[[0.86175955 0.0851971 ] [0.23620749 0.61860973] [0.86944478 0.14515473]]\n",
        "'''\n",
        "print(random.random((3,2,2)))  # 三維陣列\n",
        "'''\n",
        "[[[0.38583085 0.27966436] [0.62240807 0.83161681]]\n",
        " [[0.79261711 0.68208243] [0.97840682 0.22284812]]\n",
        " [[0.98196351 0.94917006] [0.69809127 0.74838828]]]\n",
        "'''"
      ],
      "metadata": {
        "colab": {
          "base_uri": "https://localhost:8080/",
          "height": 273
        },
        "id": "tODAnLmLKfZF",
        "outputId": "332c3a60-a3a0-4aab-f45b-7ed8fac4505b"
      },
      "execution_count": 104,
      "outputs": [
        {
          "output_type": "stream",
          "name": "stdout",
          "text": [
            "0.19524789668827536\n",
            "[0.17300268 0.8344471  0.64331238]\n",
            "[[0.55888931 0.55774821]\n",
            " [0.10796582 0.90953973]\n",
            " [0.937487   0.65617722]]\n",
            "[[[0.95019367 0.63117211]\n",
            "  [0.52161047 0.00506236]]\n",
            "\n",
            " [[0.37388718 0.98011103]\n",
            "  [0.68206063 0.83518554]]\n",
            "\n",
            " [[0.1128404  0.09354771]\n",
            "  [0.8993729  0.31474966]]]\n"
          ]
        },
        {
          "output_type": "execute_result",
          "data": {
            "text/plain": [
              "'\\n[[[0.38583085 0.27966436] [0.62240807 0.83161681]]\\n [[0.79261711 0.68208243] [0.97840682 0.22284812]]\\n [[0.98196351 0.94917006] [0.69809127 0.74838828]]]\\n'"
            ],
            "application/vnd.google.colaboratory.intrinsic+json": {
              "type": "string"
            }
          },
          "metadata": {},
          "execution_count": 104
        }
      ]
    },
    {
      "cell_type": "code",
      "source": [
        "from numpy import random\n",
        "\n",
        "print(random.rand())        # 0.7005789765387292\n",
        "print(random.rand(3))       # [0.741909   0.13810363 0.78651186]  一維陣列\n",
        "print(random.rand(3,2))     # 二維陣列\n",
        "'''\n",
        "[[0.48278515 0.52290733] [0.04385542 0.58186165] [0.62436663 0.26051134]]\n",
        "'''\n",
        "print(random.rand(3,2,2))   # 三維陣列\n",
        "'''\n",
        "[[[0.50227547 0.14535769] [0.27471491 0.61848338]]\n",
        " [[0.37914787 0.0053561 ] [0.12544604 0.10443339]]\n",
        " [[0.42781305 0.70534284] [0.12455917 0.66684256]]]\n",
        "'''"
      ],
      "metadata": {
        "colab": {
          "base_uri": "https://localhost:8080/",
          "height": 273
        },
        "id": "p5Pi6-oMKhyc",
        "outputId": "dbbdab9f-4e06-411c-e100-e93cf75eda80"
      },
      "execution_count": 105,
      "outputs": [
        {
          "output_type": "stream",
          "name": "stdout",
          "text": [
            "0.2364709247389456\n",
            "[0.2523025  0.97155817 0.27612579]\n",
            "[[0.06953623 0.74493846]\n",
            " [0.0341118  0.05250632]\n",
            " [0.16579849 0.17697658]]\n",
            "[[[0.24189437 0.98160651]\n",
            "  [0.21646537 0.70565079]]\n",
            "\n",
            " [[0.73663253 0.95389909]\n",
            "  [0.59442678 0.77683583]]\n",
            "\n",
            " [[0.17404832 0.3182795 ]\n",
            "  [0.58931118 0.88407469]]]\n"
          ]
        },
        {
          "output_type": "execute_result",
          "data": {
            "text/plain": [
              "'\\n[[[0.50227547 0.14535769] [0.27471491 0.61848338]]\\n [[0.37914787 0.0053561 ] [0.12544604 0.10443339]]\\n [[0.42781305 0.70534284] [0.12455917 0.66684256]]]\\n'"
            ],
            "application/vnd.google.colaboratory.intrinsic+json": {
              "type": "string"
            }
          },
          "metadata": {},
          "execution_count": 105
        }
      ]
    },
    {
      "cell_type": "code",
      "source": [
        "from numpy import random\n",
        "\n",
        "print(random.randn())        # 1.4421601737169842\n",
        "print(random.randn(3))       # [-0.56459336  0.50494251 -0.33503292]  一維陣列\n",
        "print(random.randn(3,2))     # 二維陣列\n",
        "'''\n",
        "[[-0.74830529  0.87249096] [-0.66611804  2.989516  ] [ 1.12876535  0.78771974]]\n",
        "'''\n",
        "print(random.randn(3,2,2))   # 三維陣列\n",
        "'''\n",
        "[[[ 0.68416542 -1.08254128] [-0.63780613 -0.34407012]]\n",
        " [[-0.09775197  0.24545264] [ 0.44459631  0.29544603]]\n",
        " [[ 2.50778709  1.11212665] [ 1.04983518 -0.94384928]]]\n",
        "'''"
      ],
      "metadata": {
        "colab": {
          "base_uri": "https://localhost:8080/",
          "height": 273
        },
        "id": "VJ3sHiBzKkS0",
        "outputId": "0520555a-e110-4107-90bd-677e4c8f9e0a"
      },
      "execution_count": 106,
      "outputs": [
        {
          "output_type": "stream",
          "name": "stdout",
          "text": [
            "1.7942722459554208\n",
            "[-1.714743   -0.61067228  0.19234426]\n",
            "[[-0.56201596 -0.28242805]\n",
            " [ 2.49543543  0.51974767]\n",
            " [ 0.1760165   1.05082349]]\n",
            "[[[ 2.31250581  0.45567529]\n",
            "  [-1.67565276  1.4898421 ]]\n",
            "\n",
            " [[ 0.96402815 -0.8317193 ]\n",
            "  [ 1.52919145 -1.10346959]]\n",
            "\n",
            " [[ 1.892966   -0.93351512]\n",
            "  [ 0.2470392  -0.37921598]]]\n"
          ]
        },
        {
          "output_type": "execute_result",
          "data": {
            "text/plain": [
              "'\\n[[[ 0.68416542 -1.08254128] [-0.63780613 -0.34407012]]\\n [[-0.09775197  0.24545264] [ 0.44459631  0.29544603]]\\n [[ 2.50778709  1.11212665] [ 1.04983518 -0.94384928]]]\\n'"
            ],
            "application/vnd.google.colaboratory.intrinsic+json": {
              "type": "string"
            }
          },
          "metadata": {},
          "execution_count": 106
        }
      ]
    },
    {
      "cell_type": "code",
      "source": [
        "from numpy import random\n",
        "\n",
        "print(random.randint(10))                 # 6，產生 0～10 的隨機整數\n",
        "print(random.randint(10,size=3))          # [7 9 0]，產生三個 0～10 的隨機整數\n",
        "print(random.randint(-10,10,size=3))      # [ 7 -1  8]，產生三個 -10～10 的隨機整數\n",
        "print(random.randint(-10,10,size=(3,3)))  # 產生 3x3 的陣列，元素為 -10～10 的隨機整數\n",
        "'''\n",
        "[[-4  3 -2]\n",
        " [ 4 -4  7]\n",
        " [-5 -2 -3]]\n",
        "'''"
      ],
      "metadata": {
        "colab": {
          "base_uri": "https://localhost:8080/",
          "height": 145
        },
        "id": "Hx4JDV04KmqM",
        "outputId": "ffbf08be-1078-4992-fb3e-1e63c13ba4ba"
      },
      "execution_count": 107,
      "outputs": [
        {
          "output_type": "stream",
          "name": "stdout",
          "text": [
            "0\n",
            "[3 9 3]\n",
            "[ 5 -4 -3]\n",
            "[[ -7  -7   1]\n",
            " [ -9 -10   2]\n",
            " [ -2  -4  -2]]\n"
          ]
        },
        {
          "output_type": "execute_result",
          "data": {
            "text/plain": [
              "'\\n[[-4  3 -2]\\n [ 4 -4  7]\\n [-5 -2 -3]]\\n'"
            ],
            "application/vnd.google.colaboratory.intrinsic+json": {
              "type": "string"
            }
          },
          "metadata": {},
          "execution_count": 107
        }
      ]
    },
    {
      "cell_type": "code",
      "source": [
        "from numpy import random\n",
        "\n",
        "a = [1,2,3,4,5,6,7,8,9]\n",
        "b = random.permutation(a)\n",
        "print(b)     #  [8 2 7 5 6 1 3 4 9]\n",
        "\n",
        "c = [[1,2,3],[4,5,6],[7,8,9]]\n",
        "d = random.permutation(c)   # 只重排第一個維度的項目[\n",
        "print(d)     # [[7 8 9] [1 2 3] [4 5 6]]\n",
        "\n",
        "e = [[[1,2],[3,3]],[[4,5],[6,6]],[[7,8],[9,9]]]\n",
        "f = random.permutation(e)   # 只重排第一個維度的項目\n",
        "print(f)     # [[[4 5] [6 6]] [[1 2] [3 3]] [[7 8] [9 9]]]"
      ],
      "metadata": {
        "colab": {
          "base_uri": "https://localhost:8080/"
        },
        "id": "RZgVWqzyKovr",
        "outputId": "773de66e-54ff-413f-f767-fe29dabcf71a"
      },
      "execution_count": 108,
      "outputs": [
        {
          "output_type": "stream",
          "name": "stdout",
          "text": [
            "[4 7 9 8 2 1 3 5 6]\n",
            "[[4 5 6]\n",
            " [1 2 3]\n",
            " [7 8 9]]\n",
            "[[[1 2]\n",
            "  [3 3]]\n",
            "\n",
            " [[7 8]\n",
            "  [9 9]]\n",
            "\n",
            " [[4 5]\n",
            "  [6 6]]]\n"
          ]
        }
      ]
    },
    {
      "cell_type": "code",
      "source": [
        "from numpy import random\n",
        "\n",
        "a = [1,2,3,4,5,6,7,8]\n",
        "b = [[1,2,3,4],[5,6,7,8]]\n",
        "c = [[[1,2],[3,4]],[[5,6],[7,8]]]\n",
        "random.shuffle(a)\n",
        "random.shuffle(b)\n",
        "random.shuffle(c)\n",
        "print(a)   # [6, 1, 7, 8, 3, 5, 4, 2]\n",
        "print(b)   # [[5, 6, 7, 8], [1, 2, 3, 4]]\n",
        "           # 只重排第一個維度的項目\n",
        "print(c)   # [[[5, 6], [7, 8]], [[1, 2], [3, 4]]]\n",
        "           # 只重排第一個維度的項目"
      ],
      "metadata": {
        "colab": {
          "base_uri": "https://localhost:8080/"
        },
        "id": "ZcVsT8QiKsSt",
        "outputId": "d3986c5a-4a73-4afd-dcef-d7ceb107b825"
      },
      "execution_count": 109,
      "outputs": [
        {
          "output_type": "stream",
          "name": "stdout",
          "text": [
            "[2, 8, 1, 6, 7, 5, 4, 3]\n",
            "[[1, 2, 3, 4], [5, 6, 7, 8]]\n",
            "[[[5, 6], [7, 8]], [[1, 2], [3, 4]]]\n"
          ]
        }
      ]
    },
    {
      "cell_type": "code",
      "source": [
        "from numpy import random\n",
        "\n",
        "# 產生十個一個 0～10 隨機整數\n",
        "print(random.choice(10))      # 8\n",
        "\n",
        "# 產生十個 0～10 隨機整數\n",
        "print(random.choice(10,10))   # [5 6 9 6 3 7 1 6 5 1]\n",
        "\n",
        "# 產生十個不重複的 0～10 隨機整數\n",
        "print(random.choice(10,10, replace=False))  # [3 2 6 9 8 5 1 7 0 4]\n",
        "\n",
        "# 根據機率產生十個 a、b、c、d 組合的隨機數陣列\n",
        "print(random.choice(['a','b','c','d'],10, p=[0.1,0.8,0.1,0]))  # ['c' 'a' 'b' 'b' 'b' 'b' 'b' 'b' 'b' 'b']"
      ],
      "metadata": {
        "colab": {
          "base_uri": "https://localhost:8080/"
        },
        "id": "9XDzI5_LKu9V",
        "outputId": "cceaeade-5af7-444f-e497-cd34560740f3"
      },
      "execution_count": 110,
      "outputs": [
        {
          "output_type": "stream",
          "name": "stdout",
          "text": [
            "6\n",
            "[4 6 6 8 9 1 8 4 8 3]\n",
            "[7 8 0 9 2 5 3 6 4 1]\n",
            "['b' 'b' 'b' 'b' 'c' 'a' 'b' 'b' 'c' 'b']\n"
          ]
        }
      ]
    },
    {
      "cell_type": "code",
      "source": [
        "from numpy import char\n",
        "\n",
        "a = char.array(['a','b','c. \\n', 1])     # 換行符號和空白會被取代，數字轉換成文字\n",
        "b = char.asarray(['a','b','c. \\n',1])    # 換行符號和空白會被取代，數字轉換成文字\n",
        "print(a)                                 # ['a' 'b' 'c.' '1']\n",
        "print(b)                                 # ['a' 'b' 'c.' '1']\n",
        "c1 = char.chararray((3,3))               # 產生一個 3x3 的文字陣列，內容放入 string\n",
        "c2 = char.chararray((3,3), unicode=True) # 產生一個 3x3 的文字陣列，內容放入 unicode 字串\n",
        "print(c1)                                # [[b'\\xa0' b'\\x10' ''] [b'\\xe6' b'!' b'V'] ['' '' '']]\n",
        "print(c2)                                # [['' '' ''] ['' '' ''] ['' '' '']]\n",
        "d = char.chararray((3,3), unicode=True)  # 產生一個 3x3 的文字陣列，內容放入 unicode 字串\n",
        "d[:] = 'a'                               # 將內容全換成字母 a\n",
        "print(d)                                 # [['a' 'a' 'a'] ['a' 'a' 'a'] ['a' 'a' 'a']]"
      ],
      "metadata": {
        "colab": {
          "base_uri": "https://localhost:8080/"
        },
        "id": "wHNi-ukLKyjM",
        "outputId": "004bf9b8-a204-4888-b0d7-3ca28ce2dc7b"
      },
      "execution_count": 111,
      "outputs": [
        {
          "output_type": "stream",
          "name": "stdout",
          "text": [
            "['a' 'b' 'c.' '1']\n",
            "['a' 'b' 'c.' '1']\n",
            "[[b'\\x01' '' '']\n",
            " ['' b'\\x01' '']\n",
            " ['' '' b'\\x01']]\n",
            "[['' '' '']\n",
            " ['' '' '']\n",
            " ['' '' '']]\n",
            "[['a' 'a' 'a']\n",
            " ['a' 'a' 'a']\n",
            " ['a' 'a' 'a']]\n"
          ]
        }
      ]
    },
    {
      "cell_type": "code",
      "source": [
        "from numpy import char\n",
        "\n",
        "a = np.array(['a','b','c','d'])      # 1x4 一維陣列\n",
        "b = np.array(['w','x','y','z'])      # 1x4 一維陣列\n",
        "print(char.add(a,b))                 # ['aw' 'bx' 'cy' 'dz']\n",
        "print(char.multiply(a,3))            # ['aaa' 'bbb' 'ccc' 'ddd']\n",
        "\n",
        "c = np.array([['a','b'],['c','d']])  # 2x2 二維陣列\n",
        "d = np.array([['w','x'],['y','z']])  # 2x2 二維陣列\n",
        "print(char.add(c,d))                 # [['aw' 'bx'] ['cy' 'dz']]\n",
        "print(char.multiply(c,3))            # [['aaa' 'bbb'] ['ccc' 'ddd']]"
      ],
      "metadata": {
        "colab": {
          "base_uri": "https://localhost:8080/"
        },
        "id": "2ooY2rLfKzsX",
        "outputId": "48acac90-e760-4f97-8072-bd98748f2d51"
      },
      "execution_count": 112,
      "outputs": [
        {
          "output_type": "stream",
          "name": "stdout",
          "text": [
            "['aw' 'bx' 'cy' 'dz']\n",
            "['aaa' 'bbb' 'ccc' 'ddd']\n",
            "[['aw' 'bx']\n",
            " ['cy' 'dz']]\n",
            "[['aaa' 'bbb']\n",
            " ['ccc' 'ddd']]\n"
          ]
        }
      ]
    },
    {
      "cell_type": "code",
      "source": [
        "from numpy import char\n",
        "\n",
        "a = np.array(['a','bb','ccc','dddd'])\n",
        "print(char.center(a, 10, '+'))    # 置中對齊，空白補 +\n",
        "                                  # ['++++a+++++' '++++bb++++' '+++ccc++++' '+++dddd+++']\n",
        "print(char.ljust(a, 10, '+'))     # 置左對齊，空白補 +\n",
        "                                  # ['a+++++++++' 'bb++++++++' 'ccc+++++++' 'dddd++++++']\n",
        "print(char.rjust(a, 10, '+'))     # 置右對齊，空白補 +\n",
        "                                  # ['+++++++++a' '++++++++bb' '+++++++ccc' '++++++dddd']\n",
        "print(char.zfill(a, 10))          # 置右對齊，空白補 0\n",
        "                                  # ['000000000a' '00000000bb' '0000000ccc' '000000dddd']"
      ],
      "metadata": {
        "colab": {
          "base_uri": "https://localhost:8080/"
        },
        "id": "6Qu7FDjsK2wc",
        "outputId": "dcf0318c-c24e-461c-a511-dd6c0c1ba5f6"
      },
      "execution_count": 113,
      "outputs": [
        {
          "output_type": "stream",
          "name": "stdout",
          "text": [
            "['++++a+++++' '++++bb++++' '+++ccc++++' '+++dddd+++']\n",
            "['a+++++++++' 'bb++++++++' 'ccc+++++++' 'dddd++++++']\n",
            "['+++++++++a' '++++++++bb' '+++++++ccc' '++++++dddd']\n",
            "['000000000a' '00000000bb' '0000000ccc' '000000dddd']\n"
          ]
        }
      ]
    },
    {
      "cell_type": "code",
      "source": [
        "from numpy import char\n",
        "\n",
        "a = np.array(['aaa','aa\\nbb','bb\\naa','abab'])\n",
        "print(char.lstrip(a,'a'))     # 移除左側所有 a ( 遇到不是 a 就停止 )\n",
        "                              # ['' '\\nbb' 'bb\\naa' 'bab']\n",
        "print(char.rstrip(a,'a'))     # 移除右側所有 a ( 遇到不是 a 就停止 )\n",
        "                              # ['' 'aa\\nbb' 'bb\\n' 'abab']\n",
        "print(char.strip(a,'a'))      # 移除左右所有 a ( 遇到不是 a 就停止 )\n",
        "                              # ['' '\\nbb' 'bb\\n' 'bab']\n",
        "print(char.partition(a,'a'))  # 以 b 的左側分割元素 ( 分割後會包含 b )\n",
        "                              # [['' 'a' 'aa'] ['' 'a' 'a\\nbb'] ['bb\\n' 'a' 'a'] ['' 'a' 'bab']]\n",
        "print(char.rpartition(a,'a')) # 以 b 的右側分割元素 ( 分割後會包含 b )\n",
        "                              # [['aa' 'a' ''] ['a' 'a' '\\nbb'] ['bb\\na' 'a' ''] ['ab' 'a' 'b']]\n",
        "print(char.split(a,'a'))      # 以 b 的左側分割元素 ( 分割後會不包含 b )\n",
        "                              # [list(['', '', '', '']) list(['', '', '\\nbb']) list(['bb\\n', '', '']) list(['', 'b', 'b'])]\n",
        "print(char.rsplit(a,'a'))     # 以 b 的右側分割元素 ( 分割後會不包含 b )\n",
        "                              # [list(['', '', '', '']) list(['', '', '\\nbb']) list(['bb\\n', '', '']) list(['', 'b', 'b'])]\n",
        "print(char.splitlines(a))     # 根據換行符號分割元素\n",
        "                              # [list(['aaa']) list(['aa', 'bb']) list(['bb', 'aa']) list(['abab'])]"
      ],
      "metadata": {
        "colab": {
          "base_uri": "https://localhost:8080/"
        },
        "id": "wA9sEuHbK8Y8",
        "outputId": "d3e07ae2-81b1-4f8c-b454-2b5ba1be9807"
      },
      "execution_count": 114,
      "outputs": [
        {
          "output_type": "stream",
          "name": "stdout",
          "text": [
            "['' '\\nbb' 'bb\\naa' 'bab']\n",
            "['' 'aa\\nbb' 'bb\\n' 'abab']\n",
            "['' '\\nbb' 'bb\\n' 'bab']\n",
            "[['' 'a' 'aa']\n",
            " ['' 'a' 'a\\nbb']\n",
            " ['bb\\n' 'a' 'a']\n",
            " ['' 'a' 'bab']]\n",
            "[['aa' 'a' '']\n",
            " ['a' 'a' '\\nbb']\n",
            " ['bb\\na' 'a' '']\n",
            " ['ab' 'a' 'b']]\n",
            "[list(['', '', '', '']) list(['', '', '\\nbb']) list(['bb\\n', '', ''])\n",
            " list(['', 'b', 'b'])]\n",
            "[list(['', '', '', '']) list(['', '', '\\nbb']) list(['bb\\n', '', ''])\n",
            " list(['', 'b', 'b'])]\n",
            "[list(['aaa']) list(['aa', 'bb']) list(['bb', 'aa']) list(['abab'])]\n"
          ]
        }
      ]
    },
    {
      "cell_type": "code",
      "source": [
        "from numpy import char\n",
        "\n",
        "a = np.array(['abc','ABC','abc xyz'])\n",
        "print(char.capitalize(a))           # 一段文字的字首字母轉大寫\n",
        "                                    # ['Abc' 'Abc' 'Abc xyz']\n",
        "print(char.lower(a))                # 字母全部轉小寫\n",
        "                                    # ['abc' 'abc' 'abc xyz']\n",
        "print(char.upper(a))                # 字母全部轉大寫\n",
        "                                    # ['ABC' 'ABC' 'ABC XYZ']\n",
        "print(char.swapcase(a))             # 字母大小寫互換\n",
        "                                    # ['ABC' 'abc' 'ABC XYZ']\n",
        "print(char.title(a))                # 所有單字字首轉大寫\n",
        "                                    # ['Abc' 'Abc' 'Abc Xyz']\n",
        "print(char.join('-',a))             # 所有字母之間加上 -\n",
        "                                    # ['a-b-c' 'A-B-C' 'a-b-c- -x-y-z']\n",
        "print(char.join(['-',':','+'],a))   # 在不同項目裡，所有字母間加上對應的符號\n",
        "                                    # ['a-b-c' 'A:B:C' 'a+b+c+ +x+y+z']\n",
        "print(char.replace(a,'abc','mno'))  # 置換 abc 為 mno\n",
        "                                    # ['mno' 'ABC' 'mno xyz']\n",
        "c = char.encode(a)                  # 換成 unicode\n",
        "print(c)                            # [b'abc' b'ABC' b'abc xyz']\n",
        "print(char.decode(c))               # 換成 utf8\n",
        "                                    # ['abc' 'ABC' 'abc xyz']"
      ],
      "metadata": {
        "colab": {
          "base_uri": "https://localhost:8080/"
        },
        "id": "5B-KCcK6K97E",
        "outputId": "d1929277-da1f-4d4f-d6be-2cadf618b8f0"
      },
      "execution_count": 115,
      "outputs": [
        {
          "output_type": "stream",
          "name": "stdout",
          "text": [
            "['Abc' 'Abc' 'Abc xyz']\n",
            "['abc' 'abc' 'abc xyz']\n",
            "['ABC' 'ABC' 'ABC XYZ']\n",
            "['ABC' 'abc' 'ABC XYZ']\n",
            "['Abc' 'Abc' 'Abc Xyz']\n",
            "['a-b-c' 'A-B-C' 'a-b-c- -x-y-z']\n",
            "['a-b-c' 'A:B:C' 'a+b+c+ +x+y+z']\n",
            "['mno' 'ABC' 'mno xyz']\n",
            "[b'abc' b'ABC' b'abc xyz']\n",
            "['abc' 'ABC' 'abc xyz']\n"
          ]
        }
      ]
    },
    {
      "cell_type": "code",
      "source": [
        "from numpy import char\n",
        "\n",
        "a = np.array(['abab','aabb','bbaa','xyz'])\n",
        "print(char.find(a,'a'))       # 從左邊開始找到字母 a 的位置\n",
        "                              # [ 0  0  2 -1]\n",
        "print(char.rfind(a,'a'))      # 從右邊開始找到字母 a 的位置\n",
        "                              # [ 2  1  3 -1]\n",
        "print(char.count(a,'a',0,2))  # 計算出現幾次字母 a\n",
        "                              # [1 2 0 0]\n",
        "print(char.count(a,'a',1,3))  # [1 1 1 0]\n",
        "print(char.str_len(a))        # [4 4 4 3]"
      ],
      "metadata": {
        "colab": {
          "base_uri": "https://localhost:8080/"
        },
        "id": "txqxKmcULA2M",
        "outputId": "77f0027d-74e8-43dd-b3b6-dffb512454a7"
      },
      "execution_count": 116,
      "outputs": [
        {
          "output_type": "stream",
          "name": "stdout",
          "text": [
            "[ 0  0  2 -1]\n",
            "[ 2  1  3 -1]\n",
            "[1 2 0 0]\n",
            "[1 1 1 0]\n",
            "[4 4 4 3]\n"
          ]
        }
      ]
    },
    {
      "cell_type": "code",
      "source": [
        "from numpy import char\n",
        "\n",
        "\n",
        "a = np.array(['abc','ABC','Abc Cba','abc123','123',''])\n",
        "b = np.array(['abc','123','xyz','abc123','123',''])\n",
        "print(char.isalpha(a))         # 只有字母 True，有包含數字或其他符號 False\n",
        "                               # [ True  True False False False False]\n",
        "print(char.isalnum(a))         # 只有字母和數字 True，有包含其它符號 False\n",
        "                               # [ True  True False  True  True False]\n",
        "print(char.isdecimal(a))       # 只有十進位數字 True，有包含其它符號或字母 False\n",
        "                               # [False False False False  True False]\n",
        "print(char.isdigit(a))         # 只有純數字 True，有包含其它符號或字母 False\n",
        "                               # [False False False False  True False]\n",
        "print(char.isnumeric(a))       # 只有純數字 True，有包含其它符號或字母 False\n",
        "                               # [False False False False  True False]\n",
        "print(char.isspace(a))         # 只有空白符號 True，有包含字母、數字或其它符號 False\n",
        "                               # [False False False False False False]\n",
        "print(char.islower(a))         # 至少有一個字母且都小寫 True，有包含大寫 False\n",
        "                               # [ True False False  True False False]\n",
        "print(char.isupper(a))         # 至少有一個字母且都大寫 True，有包含小寫 False\n",
        "                               # [False  True False False False False]\n",
        "print(char.istitle(a))         # 字串是 title ( 每個單字的字首都大寫 ) True，否則 False\n",
        "                               # [False False  True False False False]\n",
        "print(char.startswith(a,'a'))  # a 開頭的字串 True，否則 False\n",
        "                               # [ True False False  True False False]\n",
        "print(char.endswith(a,'a'))    # a 結尾的字串 True，否則 False\n",
        "                               # [False False  True False False False]\n",
        "print(char.equal(a,b))         # a 陣列和 b 陣列元素相等 True，否則 False\n",
        "                               # [ True False False  True  True  True]\n",
        "print(char.not_equal(a,b))     # a 陣列和 b 陣列元素不相等 True，否則 False\n",
        "                               # [False  True  True False False False]\n",
        "print(char.greater_equal(a,b)) # a 陣列和 b 陣列元素 的 unicode 大於且相等 True，否則 False\n",
        "                               # [ True  True False  True  True  True]\n",
        "print(char.less_equal(a,b))    # a 陣列和 b 陣列元素 的 unicode 小於且相等 True，否則 False\n",
        "                               # [ True False  True  True  True  True]\n",
        "print(char.greater(a,b))       # a 陣列和 b 陣列元素 的 unicode 大於 True，否則 False\n",
        "                               # [False  True False False False False]\n",
        "print(char.less(a,b))          # a 陣列和 b 陣列元素 的 unicode 小於 True，否則 False\n",
        "                               # [False False  True False False False]\n",
        "print(char.compare_chararrays(a,b,'>=',True))  # a 陣列和 b 陣列元素 的 unicode 大於等於 True，否則 False\n",
        "                               # [ True  True False  True  True  True]"
      ],
      "metadata": {
        "colab": {
          "base_uri": "https://localhost:8080/"
        },
        "id": "raUhFyRzLFl0",
        "outputId": "2360fee8-0075-476c-e68a-647436723348"
      },
      "execution_count": 117,
      "outputs": [
        {
          "output_type": "stream",
          "name": "stdout",
          "text": [
            "[ True  True False False False False]\n",
            "[ True  True False  True  True False]\n",
            "[False False False False  True False]\n",
            "[False False False False  True False]\n",
            "[False False False False  True False]\n",
            "[False False False False False False]\n",
            "[ True False False  True False False]\n",
            "[False  True False False False False]\n",
            "[False False  True False False False]\n",
            "[ True False False  True False False]\n",
            "[False False  True False False False]\n",
            "[ True False False  True  True  True]\n",
            "[False  True  True False False False]\n",
            "[ True  True False  True  True  True]\n",
            "[ True False  True  True  True  True]\n",
            "[False  True False False False False]\n",
            "[False False  True False False False]\n",
            "[ True  True False  True  True  True]\n"
          ]
        }
      ]
    }
  ]
}